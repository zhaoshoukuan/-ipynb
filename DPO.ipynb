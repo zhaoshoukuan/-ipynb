{
 "cells": [
  {
   "cell_type": "code",
   "execution_count": 1,
   "metadata": {
    "ExecuteTime": {
     "end_time": "2020-03-18T03:18:06.806259Z",
     "start_time": "2020-03-18T03:17:58.430930Z"
    }
   },
   "outputs": [],
   "source": [
    "from qulab.sugar import connect\n",
    "from qulab.job import Job\n",
    "from qulab.storage.utils import save\n",
    "import matplotlib.pyplot as plt\n",
    "import numpy as np, sympy as sy\n",
    "from collections import namedtuple, deque, defaultdict, OrderedDict, Counter\n",
    "from scipy.optimize import curve_fit, least_squares as ls\n",
    "import time, asyncio, sys, imp, pandas as pd\n",
    "from tqdm import tqdm_notebook as tqdm\n",
    "from qulab.wavepoint import WAVE_FORM as WF\n",
    "from qulab import optimize, measureroutine, computewave\n",
    "from qulab.optimize import Collect_Waveform \n",
    "from qulab.waveform import CosPulseDrag, Expi, DC, Step, Gaussian\n",
    "from qulab.math.qst import transformList, acquireVFromData, vToRho\n",
    "op = imp.reload(optimize)\n",
    "mr = imp.reload(measureroutine)\n",
    "cw = imp.reload(computewave)"
   ]
  },
  {
   "cell_type": "code",
   "execution_count": 2,
   "metadata": {
    "ExecuteTime": {
     "end_time": "2020-03-18T03:18:07.210829Z",
     "start_time": "2020-03-18T03:18:06.807244Z"
    }
   },
   "outputs": [],
   "source": [
    "dpo = await connect('DPO190')"
   ]
  },
  {
   "cell_type": "code",
   "execution_count": 3,
   "metadata": {
    "ExecuteTime": {
     "end_time": "2020-03-18T03:18:07.250847Z",
     "start_time": "2020-03-18T03:18:07.212827Z"
    }
   },
   "outputs": [
    {
     "data": {
      "text/plain": [
       "'1\\n'"
      ]
     },
     "execution_count": 3,
     "metadata": {},
     "output_type": "execute_result"
    }
   ],
   "source": [
    "await dpo.query('SEL:CH4?')"
   ]
  },
  {
   "cell_type": "code",
   "execution_count": 4,
   "metadata": {
    "ExecuteTime": {
     "end_time": "2020-03-18T03:18:12.988473Z",
     "start_time": "2020-03-18T03:18:12.971493Z"
    }
   },
   "outputs": [],
   "source": [
    "await dpo.write('SEL:CH4 1')   # 开关通道"
   ]
  },
  {
   "cell_type": "code",
   "execution_count": 9,
   "metadata": {
    "ExecuteTime": {
     "end_time": "2020-03-11T14:41:14.742001Z",
     "start_time": "2020-03-11T14:41:14.732005Z"
    }
   },
   "outputs": [
    {
     "data": {
      "text/plain": [
       "'1\\n'"
      ]
     },
     "execution_count": 9,
     "metadata": {},
     "output_type": "execute_result"
    }
   ],
   "source": [
    "await dpo.query('ACQuire:STATE?')  #{OFF|ON|RUN|STOP|<NR1>}"
   ]
  },
  {
   "cell_type": "code",
   "execution_count": 10,
   "metadata": {
    "ExecuteTime": {
     "end_time": "2020-03-11T14:52:21.276399Z",
     "start_time": "2020-03-11T14:52:21.266398Z"
    }
   },
   "outputs": [
    {
     "data": {
      "text/plain": [
       "'VARPERSIST\\n'"
      ]
     },
     "execution_count": 10,
     "metadata": {},
     "output_type": "execute_result"
    }
   ],
   "source": [
    "await dpo.query('DISplay:PERSistence?')"
   ]
  },
  {
   "cell_type": "code",
   "execution_count": 13,
   "metadata": {
    "ExecuteTime": {
     "end_time": "2020-03-11T15:07:19.679736Z",
     "start_time": "2020-03-11T15:07:19.647758Z"
    }
   },
   "outputs": [],
   "source": [
    "psg_ex1 = await connect('PSG105')\n",
    "await psg_ex1.setValue('Moutput','OFF')"
   ]
  },
  {
   "cell_type": "code",
   "execution_count": null,
   "metadata": {},
   "outputs": [],
   "source": []
  }
 ],
 "metadata": {
  "kernelspec": {
   "display_name": "Python 3",
   "language": "python",
   "name": "python3"
  },
  "language_info": {
   "codemirror_mode": {
    "name": "ipython",
    "version": 3
   },
   "file_extension": ".py",
   "mimetype": "text/x-python",
   "name": "python",
   "nbconvert_exporter": "python",
   "pygments_lexer": "ipython3",
   "version": "3.7.4"
  },
  "toc": {
   "base_numbering": 1,
   "nav_menu": {},
   "number_sections": true,
   "sideBar": true,
   "skip_h1_title": false,
   "title_cell": "Table of Contents",
   "title_sidebar": "Contents",
   "toc_cell": false,
   "toc_position": {},
   "toc_section_display": true,
   "toc_window_display": false
  }
 },
 "nbformat": 4,
 "nbformat_minor": 2
}
