{
 "cells": [
  {
   "cell_type": "code",
   "execution_count": 10,
   "metadata": {
    "ExecuteTime": {
     "end_time": "2020-07-07T05:24:30.161616Z",
     "start_time": "2020-07-07T05:24:24.390047Z"
    }
   },
   "outputs": [
    {
     "name": "stdout",
     "output_type": "stream",
     "text": [
      "常温结电阻（以欧姆为单位）：10000\n",
      "qubit的电容值（以fF为单位)：73\n"
     ]
    }
   ],
   "source": [
    "%matplotlib notebook\n",
    "import numpy as np\n",
    "import matplotlib.pyplot as plt\n",
    "from scipy import constants as C\n",
    "from datetime import datetime\n",
    "import pandas as pd\n",
    "import time\n",
    "\n",
    "now = time.strftime(\"%Y-%m-%d %H:%M:%S\", time.localtime())\n",
    "\n",
    "Rn = float(input('常温结电阻（以欧姆为单位）：'))\n",
    "Cq = float(input('qubit的电容值（以fF为单位)：'))\n",
    "\n",
    "#对于铝结，温度为30mk\n",
    "T = 50e-3 #单位开尔文\n",
    "delta = 200*C.e*1e-6 # 200 ueV, 单位焦\n",
    "\n",
    "Rq = C.h/C.e**2\n",
    "Ec = C.e**2/2/(Cq*1e-15)\n",
    "Ic = C.pi*delta/2/C.e/Rn*np.tanh(delta/2/C.k/T)\n",
    "Ej = Ic*C.h/4/C.e/C.pi\n",
    "\n",
    "#Ej/C.h = Rq/Rj*delta/8/C.h\n",
    "f01 = np.sqrt(8*Ej*Ec/C.h**2)-Ec/C.h #8 or 16\n",
    "\n",
    "para = {'日期:':now, '氧化参数：':'2sccm-6torr', '曝光参数：':'1.8-0.4-50-10', '温度T（开尔文）':T, '铝结能隙delta（焦）':delta,\n",
    "        '结电阻Rn(欧姆）':Rn, '十字叉对地电容Cq(fF)':Cq, 'Ic(nA)': Ic*1e9, 'Ej(GHz)':Ej/C.h*1e-9, 'f01(GHz)':f01*1e-9}\n",
    "\n",
    "\n",
    "with open(datetime.now().date().isoformat()+'.txt', 'wb') as f: \n",
    "    f.write(str(para).encode('utf-8'))"
   ]
  },
  {
   "cell_type": "code",
   "execution_count": 11,
   "metadata": {
    "ExecuteTime": {
     "end_time": "2020-07-07T05:24:31.251817Z",
     "start_time": "2020-07-07T05:24:31.227878Z"
    }
   },
   "outputs": [
    {
     "data": {
      "text/html": [
       "<div>\n",
       "<style scoped>\n",
       "    .dataframe tbody tr th:only-of-type {\n",
       "        vertical-align: middle;\n",
       "    }\n",
       "\n",
       "    .dataframe tbody tr th {\n",
       "        vertical-align: top;\n",
       "    }\n",
       "\n",
       "    .dataframe thead th {\n",
       "        text-align: right;\n",
       "    }\n",
       "</style>\n",
       "<table border=\"1\" class=\"dataframe\">\n",
       "  <thead>\n",
       "    <tr style=\"text-align: right;\">\n",
       "      <th></th>\n",
       "      <th>Ej(GHz)</th>\n",
       "      <th>Ic(nA)</th>\n",
       "      <th>f01(GHz)</th>\n",
       "      <th>十字叉对地电容Cq(fF)</th>\n",
       "      <th>日期:</th>\n",
       "      <th>曝光参数：</th>\n",
       "      <th>氧化参数：</th>\n",
       "      <th>温度T（开尔文）</th>\n",
       "      <th>结电阻Rn(欧姆）</th>\n",
       "      <th>铝结能隙delta（焦）</th>\n",
       "    </tr>\n",
       "  </thead>\n",
       "  <tbody>\n",
       "    <tr>\n",
       "      <th>1</th>\n",
       "      <td>15.603773</td>\n",
       "      <td>31.415927</td>\n",
       "      <td>5.489925</td>\n",
       "      <td>73.0</td>\n",
       "      <td>2020-07-07 13:24:24</td>\n",
       "      <td>1.8-0.4-50-10</td>\n",
       "      <td>2sccm-6torr</td>\n",
       "      <td>0.05</td>\n",
       "      <td>10000.0</td>\n",
       "      <td>3.204353e-23</td>\n",
       "    </tr>\n",
       "  </tbody>\n",
       "</table>\n",
       "</div>"
      ],
      "text/plain": [
       "     Ej(GHz)     Ic(nA)  f01(GHz)  十字叉对地电容Cq(fF)                  日期:  \\\n",
       "1  15.603773  31.415927  5.489925           73.0  2020-07-07 13:24:24   \n",
       "\n",
       "           曝光参数：        氧化参数：  温度T（开尔文）  结电阻Rn(欧姆）  铝结能隙delta（焦）  \n",
       "1  1.8-0.4-50-10  2sccm-6torr      0.05    10000.0  3.204353e-23  "
      ]
     },
     "execution_count": 11,
     "metadata": {},
     "output_type": "execute_result"
    }
   ],
   "source": [
    "pd.DataFrame(para,index=[1])"
   ]
  },
  {
   "cell_type": "code",
   "execution_count": 1,
   "metadata": {
    "ExecuteTime": {
     "end_time": "2020-07-30T09:24:22.371878Z",
     "start_time": "2020-07-30T09:23:57.333906Z"
    }
   },
   "outputs": [
    {
     "name": "stdout",
     "output_type": "stream",
     "text": [
      "请输入双光子能级（GHz）：5.3248\n",
      "请输入第一激发能级（GHz）：5.5533\n",
      "电容Cq:42.38562215985013\n"
     ]
    }
   ],
   "source": [
    "%matplotlib notebook\n",
    "import numpy as np\n",
    "import matplotlib.pyplot as plt\n",
    "from scipy import constants as C\n",
    "from datetime import datetime\n",
    "import pandas as pd\n",
    "import time\n",
    "\n",
    "#Ec = C.e**2/2/(Cq*1e-15)\n",
    "#Ec = (w01-(w02-w01))*C.h\n",
    "w02_2 = float(input('请输入双光子能级（GHz）：'))\n",
    "w01_1 = float(input('请输入第一激发能级（GHz）：'))\n",
    "w02 = 2*w02_2*1e9\n",
    "w01 = w01_1*1e9\n",
    "Cq_1 = C.e**2/2/((w01-(w02-w01))*C.h)*1e15\n",
    "print(f'电容Cq:{Cq_1}')"
   ]
  },
  {
   "cell_type": "code",
   "execution_count": null,
   "metadata": {},
   "outputs": [],
   "source": []
  }
 ],
 "metadata": {
  "kernelspec": {
   "display_name": "Python 3",
   "language": "python",
   "name": "python3"
  },
  "language_info": {
   "codemirror_mode": {
    "name": "ipython",
    "version": 3
   },
   "file_extension": ".py",
   "mimetype": "text/x-python",
   "name": "python",
   "nbconvert_exporter": "python",
   "pygments_lexer": "ipython3",
   "version": "3.6.6"
  },
  "latex_envs": {
   "LaTeX_envs_menu_present": true,
   "autoclose": false,
   "autocomplete": true,
   "bibliofile": "biblio.bib",
   "cite_by": "apalike",
   "current_citInitial": 1,
   "eqLabelWithNumbers": true,
   "eqNumInitial": 1,
   "hotkeys": {
    "equation": "Ctrl-E",
    "itemize": "Ctrl-I"
   },
   "labels_anchors": false,
   "latex_user_defs": false,
   "report_style_numbering": false,
   "user_envs_cfg": false
  },
  "toc": {
   "base_numbering": 1,
   "nav_menu": {},
   "number_sections": true,
   "sideBar": true,
   "skip_h1_title": false,
   "title_cell": "Table of Contents",
   "title_sidebar": "Contents",
   "toc_cell": false,
   "toc_position": {},
   "toc_section_display": true,
   "toc_window_display": false
  }
 },
 "nbformat": 4,
 "nbformat_minor": 2
}
