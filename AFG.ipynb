{
 "cells": [
  {
   "cell_type": "code",
   "execution_count": 29,
   "metadata": {
    "ExecuteTime": {
     "end_time": "2020-04-16T06:59:45.400397Z",
     "start_time": "2020-04-16T06:59:45.382385Z"
    }
   },
   "outputs": [],
   "source": [
    "from qulab.sugar import connect\n",
    "from qulab.job import Job\n",
    "from qulab.storage.utils import save\n",
    "import matplotlib.pyplot as plt\n",
    "import numpy as np, sympy as sy\n",
    "from collections import namedtuple, deque, defaultdict, OrderedDict, Counter\n",
    "from scipy.optimize import curve_fit, least_squares as ls\n",
    "import time, asyncio, sys, imp, pandas as pd\n",
    "from tqdm import tqdm_notebook as tqdm\n",
    "from qulab.wavepoint import WAVE_FORM as WF\n",
    "from qulab import optimize, measureroutine, computewave\n",
    "from qulab.optimize import Collect_Waveform \n",
    "from qulab.waveform import CosPulseDrag, Expi, DC, Step, Gaussian\n",
    "from qulab.math.qst import transformList, acquireVFromData, vToRho\n",
    "op = imp.reload(optimize)\n",
    "mr = imp.reload(measureroutine)\n",
    "cw = imp.reload(computewave)"
   ]
  },
  {
   "cell_type": "code",
   "execution_count": 30,
   "metadata": {
    "ExecuteTime": {
     "end_time": "2020-04-16T06:59:50.115558Z",
     "start_time": "2020-04-16T06:59:49.068320Z"
    }
   },
   "outputs": [
    {
     "data": {
      "text/plain": [
       "'TEKTRONIX,AFG3022C,C020308,SCPI:99.0 FV:1.0.9\\n'"
      ]
     },
     "execution_count": 30,
     "metadata": {},
     "output_type": "execute_result"
    }
   ],
   "source": [
    "afg = await connect('AFG')\n",
    "await afg.query('*IDN?')"
   ]
  },
  {
   "cell_type": "code",
   "execution_count": 25,
   "metadata": {
    "ExecuteTime": {
     "end_time": "2020-04-16T06:53:23.057982Z",
     "start_time": "2020-04-16T06:53:23.020869Z"
    }
   },
   "outputs": [],
   "source": [
    "# await afg.setValue('Output','ON',ch=1)\n",
    "# await afg.setValue('Function','Pulse',ch=1)\n",
    "# await afg.setValue('Pulse Period',110e-6,ch=1)\n",
    "# await afg.setValue('Pulse Width',1e-6,ch=1)\n",
    "# await afg.setValue('Amplitude',5,ch=1)\n",
    "# await afg.setValue('Offset',0,ch=1)\n",
    "# await afg.setValue('Burst Ncycles',1,ch=1)"
   ]
  },
  {
   "cell_type": "code",
   "execution_count": 32,
   "metadata": {
    "ExecuteTime": {
     "end_time": "2020-04-16T07:02:04.568124Z",
     "start_time": "2020-04-16T07:02:04.529138Z"
    }
   },
   "outputs": [],
   "source": [
    "await afg.reset()"
   ]
  },
  {
   "cell_type": "code",
   "execution_count": 34,
   "metadata": {
    "ExecuteTime": {
     "end_time": "2020-04-16T07:03:38.046825Z",
     "start_time": "2020-04-16T07:03:38.009836Z"
    }
   },
   "outputs": [],
   "source": [
    "await afg.setValue('Output','ON',ch=1)\n",
    "await afg.setValue('Function','Pulse',ch=1)\n",
    "await afg.setValue('Pulse Period',110e-6,ch=1)\n",
    "await afg.setValue('Pulse Width',1e-6,ch=1)\n",
    "await afg.setValue('Amplitude',5,ch=1)\n",
    "await afg.setValue('Offset',0,ch=1)"
   ]
  },
  {
   "cell_type": "code",
   "execution_count": 35,
   "metadata": {
    "ExecuteTime": {
     "end_time": "2020-04-16T07:04:15.133442Z",
     "start_time": "2020-04-16T07:03:55.030101Z"
    }
   },
   "outputs": [],
   "source": [
    "for i in range(20):\n",
    "    await afg.write('*TRG')\n",
    "    time.sleep(1)"
   ]
  },
  {
   "cell_type": "code",
   "execution_count": null,
   "metadata": {},
   "outputs": [],
   "source": []
  }
 ],
 "metadata": {
  "kernelspec": {
   "display_name": "Python 3",
   "language": "python",
   "name": "python3"
  },
  "language_info": {
   "codemirror_mode": {
    "name": "ipython",
    "version": 3
   },
   "file_extension": ".py",
   "mimetype": "text/x-python",
   "name": "python",
   "nbconvert_exporter": "python",
   "pygments_lexer": "ipython3",
   "version": "3.7.4"
  },
  "toc": {
   "base_numbering": 1,
   "nav_menu": {},
   "number_sections": true,
   "sideBar": true,
   "skip_h1_title": false,
   "title_cell": "Table of Contents",
   "title_sidebar": "Contents",
   "toc_cell": false,
   "toc_position": {},
   "toc_section_display": true,
   "toc_window_display": false
  }
 },
 "nbformat": 4,
 "nbformat_minor": 2
}
