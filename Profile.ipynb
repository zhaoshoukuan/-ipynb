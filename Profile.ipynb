{
 "cells": [
  {
   "cell_type": "code",
   "execution_count": 35,
   "metadata": {
    "ExecuteTime": {
     "end_time": "2019-11-15T07:30:35.230647Z",
     "start_time": "2019-11-15T07:30:35.070633Z"
    }
   },
   "outputs": [
    {
     "name": "stdout",
     "output_type": "stream",
     "text": [
      "         805 function calls in 0.140 seconds\n",
      "\n",
      "   Ordered by: standard name\n",
      "\n",
      "   ncalls  tottime  percall  cumtime  percall filename:lineno(function)\n",
      "      159    0.000    0.000    0.004    0.000 <ipython-input-35-d51686fffc1c>:24(aquireData)\n",
      "        1    0.012    0.012    0.129    0.129 <ipython-input-35-d51686fffc1c>:40(test)\n",
      "        1    0.012    0.012    0.140    0.140 <string>:1(<module>)\n",
      "        2    0.000    0.000    0.054    0.027 _asarray.py:16(asarray)\n",
      "        1    0.000    0.000    0.140    0.140 {built-in method builtins.exec}\n",
      "        2    0.054    0.027    0.054    0.027 {built-in method numpy.array}\n",
      "      316    0.000    0.000    0.000    0.000 {method 'append' of 'list' objects}\n",
      "        1    0.000    0.000    0.000    0.000 {method 'disable' of '_lsprof.Profiler' objects}\n",
      "        2    0.057    0.029    0.057    0.029 {method 'flatten' of 'numpy.ndarray' objects}\n",
      "        2    0.004    0.002    0.004    0.002 {method 'randn' of 'numpy.random.mtrand.RandomState' objects}\n",
      "      318    0.000    0.000    0.000    0.000 {method 'reshape' of 'numpy.ndarray' objects}\n",
      "\n",
      "\n"
     ]
    }
   ],
   "source": [
    "import cProfile\n",
    "from itertools import count\n",
    "\n",
    "import numpy as np\n",
    "\n",
    "\n",
    "def getSamplesPerRecode(numOfPoints):\n",
    "    samplesPerRecord = (numOfPoints // 64) * 64\n",
    "    if samplesPerRecord < numOfPoints:\n",
    "        samplesPerRecord += 64\n",
    "    return samplesPerRecord\n",
    "\n",
    "\n",
    "def getExpArray(f_list, numOfPoints, weight=None, sampleRate=1e9):\n",
    "    e = []\n",
    "    t = np.arange(0, numOfPoints, 1) / sampleRate\n",
    "    if weight is None:\n",
    "        weight = np.ones(numOfPoints)\n",
    "    for f in f_list:\n",
    "        e.append(weight * np.exp(-1j * 2 * np.pi * f * t))\n",
    "    return np.asarray(e).T\n",
    "\n",
    "\n",
    "def aquireData():\n",
    "    A, B = np.random.randn(64 * 1024), np.random.randn(64 * 1024)\n",
    "    while True:\n",
    "        yield A, B\n",
    "\n",
    "\n",
    "recordsPerBuffer = 64\n",
    "samplesPerRecord = 1024\n",
    "maxlen = 10000\n",
    "n = 1000\n",
    "repeats = 0\n",
    "\n",
    "e = getExpArray([50e6, 30e6], 1000)\n",
    "fft = False\n",
    "avg = False\n",
    "\n",
    "def test():\n",
    "    A, B = [], []\n",
    "\n",
    "    for index, (chA, chB) in zip(count(), aquireData()):\n",
    "        A_lst = chA.reshape((recordsPerBuffer, samplesPerRecord))\n",
    "        B_lst = chB.reshape((recordsPerBuffer, samplesPerRecord))\n",
    "        if fft:\n",
    "            A_lst = (A_lst[:, :n]).dot(e)\n",
    "            B_lst = (B_lst[:, :n]).dot(e)\n",
    "        try:\n",
    "            A.append(A_lst)\n",
    "            B.append(B_lst)\n",
    "        except:\n",
    "            A, B = A_lst, B_lst\n",
    "        if repeats == 0 and index * recordsPerBuffer >= maxlen:\n",
    "            break\n",
    "            \n",
    "    A = np.asarray(A)\n",
    "    B = np.asarray(B)\n",
    "    \n",
    "    A = A.flatten().reshape(A.shape[0]*A.shape[1], A.shape[2])\n",
    "    B = B.flatten().reshape(B.shape[0]*B.shape[1], B.shape[2])\n",
    "            \n",
    "    if avg:\n",
    "        return A.mean(axis=0), B.mean(axis=0)\n",
    "    else:\n",
    "        return A, B\n",
    "\n",
    "\n",
    "cProfile.run('test()')"
   ]
  },
  {
   "cell_type": "code",
   "execution_count": 36,
   "metadata": {
    "ExecuteTime": {
     "end_time": "2019-11-15T07:30:37.922405Z",
     "start_time": "2019-11-15T07:30:37.790409Z"
    }
   },
   "outputs": [],
   "source": [
    "a,b = test()"
   ]
  },
  {
   "cell_type": "code",
   "execution_count": 37,
   "metadata": {
    "ExecuteTime": {
     "end_time": "2019-11-15T07:30:38.665936Z",
     "start_time": "2019-11-15T07:30:38.662935Z"
    }
   },
   "outputs": [
    {
     "data": {
      "text/plain": [
       "(10112, 1024)"
      ]
     },
     "execution_count": 37,
     "metadata": {},
     "output_type": "execute_result"
    }
   ],
   "source": [
    "a.shape"
   ]
  },
  {
   "cell_type": "code",
   "execution_count": 17,
   "metadata": {
    "ExecuteTime": {
     "end_time": "2019-11-15T07:24:55.562880Z",
     "start_time": "2019-11-15T07:24:55.558889Z"
    }
   },
   "outputs": [],
   "source": [
    "x = np.array([\n",
    "    [[1,2],[3,4],[5,6]],\n",
    "    [[-1,-2],[-3,-4],[-5,-6]]\n",
    "])"
   ]
  },
  {
   "cell_type": "code",
   "execution_count": 18,
   "metadata": {
    "ExecuteTime": {
     "end_time": "2019-11-15T07:24:58.882286Z",
     "start_time": "2019-11-15T07:24:58.878277Z"
    }
   },
   "outputs": [
    {
     "data": {
      "text/plain": [
       "(2, 3, 2)"
      ]
     },
     "execution_count": 18,
     "metadata": {},
     "output_type": "execute_result"
    }
   ],
   "source": [
    "x.shape"
   ]
  },
  {
   "cell_type": "code",
   "execution_count": 29,
   "metadata": {
    "ExecuteTime": {
     "end_time": "2019-11-15T07:27:49.730621Z",
     "start_time": "2019-11-15T07:27:49.726621Z"
    }
   },
   "outputs": [
    {
     "data": {
      "text/plain": [
       "array([[ 1,  2,  3,  4,  5,  6],\n",
       "       [-1, -2, -3, -4, -5, -6]])"
      ]
     },
     "execution_count": 29,
     "metadata": {},
     "output_type": "execute_result"
    }
   ],
   "source": [
    "x.flatten().reshape(2,6)"
   ]
  },
  {
   "cell_type": "code",
   "execution_count": null,
   "metadata": {},
   "outputs": [],
   "source": []
  }
 ],
 "metadata": {
  "kernelspec": {
   "display_name": "Python 3",
   "language": "python",
   "name": "python3"
  },
  "language_info": {
   "codemirror_mode": {
    "name": "ipython",
    "version": 3
   },
   "file_extension": ".py",
   "mimetype": "text/x-python",
   "name": "python",
   "nbconvert_exporter": "python",
   "pygments_lexer": "ipython3",
   "version": "3.7.4"
  },
  "toc": {
   "base_numbering": 1,
   "nav_menu": {},
   "number_sections": true,
   "sideBar": true,
   "skip_h1_title": false,
   "title_cell": "Table of Contents",
   "title_sidebar": "Contents",
   "toc_cell": false,
   "toc_position": {},
   "toc_section_display": true,
   "toc_window_display": false
  }
 },
 "nbformat": 4,
 "nbformat_minor": 2
}
