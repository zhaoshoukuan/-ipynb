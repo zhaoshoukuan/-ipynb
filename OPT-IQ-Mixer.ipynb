{
 "cells": [
  {
   "cell_type": "markdown",
   "metadata": {},
   "source": [
    "# 连接仪器"
   ]
  },
  {
   "cell_type": "code",
   "execution_count": 2,
   "metadata": {
    "ExecuteTime": {
     "end_time": "2020-08-11T11:24:25.071506Z",
     "start_time": "2020-08-11T11:24:25.054477Z"
    }
   },
   "outputs": [],
   "source": [
    "from qulab.sugar import connect\n",
    "from qulab.job import Job\n",
    "from qulab.storage.utils import save\n",
    "import matplotlib.pyplot as plt, os\n",
    "import numpy as np, sympy as sy, visa\n",
    "from collections import namedtuple, deque, defaultdict, OrderedDict, Counter\n",
    "from scipy.optimize import curve_fit, least_squares as ls\n",
    "import time, asyncio, sys, imp, pandas as pd\n",
    "from tqdm import tqdm_notebook as tqdm\n",
    "from easydl import clear_output\n",
    "from sklearn.cluster import KMeans\n",
    "from qulab import wavepoint \n",
    "from qulab.wavepoint import WAVE_FORM as WF\n",
    "from qulab import optimize, measureroutine, computewave, imatrix, waveform_new\n",
    "# from qulab.optimize import Collect_Waveform \n",
    "from qulab.waveform import CosPulseDrag, Expi, DC, Step, Gaussian\n",
    "from qulab.math.qst import transformList, acquireVFromData, vToRho\n",
    "from qulab.math import opt\n",
    "opt = imp.reload(opt)\n",
    "op = imp.reload(optimize)\n",
    "mr = imp.reload(measureroutine)\n",
    "cw = imp.reload(computewave)\n",
    "mx = imp.reload(imatrix)\n",
    "wn = imp.reload(waveform_new)"
   ]
  },
  {
   "cell_type": "code",
   "execution_count": 22,
   "metadata": {
    "ExecuteTime": {
     "end_time": "2020-07-05T10:26:15.773685Z",
     "start_time": "2020-07-05T10:26:15.763683Z"
    }
   },
   "outputs": [],
   "source": [
    "measure = mr.common(0,0,0,0,0,0)"
   ]
  },
  {
   "cell_type": "code",
   "execution_count": 3,
   "metadata": {
    "ExecuteTime": {
     "end_time": "2020-08-11T11:24:25.739249Z",
     "start_time": "2020-08-11T11:24:25.072477Z"
    }
   },
   "outputs": [
    {
     "data": {
      "text/plain": [
       "(29, <StatusCode.success: 0>)"
      ]
     },
     "execution_count": 3,
     "metadata": {},
     "output_type": "execute_result"
    }
   ],
   "source": [
    "rm = visa.ResourceManager()\n",
    "spec = rm.open_resource('TCPIP::10.122.7.191')\n",
    "awg = await connect('AWG133')\n",
    "await awg.setValue('Run Mode','Continuous')    # Triggered\n",
    "f_cent = 4.238e9\n",
    "spec.write('FREQ:CENT %f'%f_cent)"
   ]
  },
  {
   "cell_type": "markdown",
   "metadata": {},
   "source": [
    "# 衰减器归零"
   ]
  },
  {
   "cell_type": "code",
   "execution_count": 24,
   "metadata": {
    "ExecuteTime": {
     "end_time": "2020-07-05T10:28:16.072974Z",
     "start_time": "2020-07-05T10:28:16.069988Z"
    }
   },
   "outputs": [],
   "source": [
    "# for i in measure.com_lst:\n",
    "#     mr.Att_Setup(measure,i).Att(0)"
   ]
  },
  {
   "cell_type": "markdown",
   "metadata": {},
   "source": [
    "# 工作点"
   ]
  },
  {
   "cell_type": "code",
   "execution_count": 4,
   "metadata": {
    "ExecuteTime": {
     "end_time": "2020-08-11T11:24:38.800383Z",
     "start_time": "2020-08-11T11:24:38.795397Z"
    }
   },
   "outputs": [],
   "source": [
    "atributte = ['q_name','alpha_read','alpha_ch1','alpha_ch2','alpha_ch3','alpha_ch4','alpha_ch5',\\\n",
    "            'beta_read','beta_ch1','beta_ch2','beta_ch3','beta_ch4','beta_ch5']\n",
    "Iqmixer = namedtuple('Iqmixer',atributte,defaults=[{} for i in range(12)])\n",
    "\n",
    "iqm = Iqmixer(q_name='Iqm') #power=-2.1"
   ]
  },
  {
   "cell_type": "markdown",
   "metadata": {},
   "source": [
    "# 保存IQ-Mixer状态"
   ]
  },
  {
   "cell_type": "code",
   "execution_count": 140,
   "metadata": {
    "ExecuteTime": {
     "end_time": "2020-07-08T05:04:58.683612Z",
     "start_time": "2020-07-08T05:04:58.663611Z"
    }
   },
   "outputs": [
    {
     "name": "stdout",
     "output_type": "stream",
     "text": [
      "D:\\skzhao\\file_name\\2020\\0708\\IQMixerState\\iqmixerstate_20200708130458.npz\n"
     ]
    }
   ],
   "source": [
    "qstate = []\n",
    "def tuple2dict(q):\n",
    "    for i in q:\n",
    "        qstate.append(i._asdict())\n",
    "    return qstate\n",
    "\n",
    "filepath = save('IQMixerState','iqmixerstate',state = tuple2dict([iqm]),base_path=r'D:\\skzhao\\file_name')\n",
    "with open(r'D:\\skzhao\\file_name\\iqmixer_state.txt', mode='a') as filename:\n",
    "    filename.write(str(filepath))\n",
    "    filename.write('\\n')\n",
    "print(filepath)"
   ]
  },
  {
   "cell_type": "markdown",
   "metadata": {},
   "source": [
    "# 提取IQ-Mixer状态"
   ]
  },
  {
   "cell_type": "code",
   "execution_count": 5,
   "metadata": {
    "ExecuteTime": {
     "end_time": "2020-08-11T11:24:41.829916Z",
     "start_time": "2020-08-11T11:24:41.499165Z"
    }
   },
   "outputs": [
    {
     "name": "stdout",
     "output_type": "stream",
     "text": [
      "D:\\skzhao\\file_name\\2020\\0708\\IQMixerState\\iqmixerstate_20200708130458.npz\n"
     ]
    }
   ],
   "source": [
    "fl = np.loadtxt(r'D:\\skzhao\\file_name\\iqmixer_state.txt',dtype='str')\n",
    "f = str(fl[-1])\n",
    "data = np.load(f,allow_pickle=True)\n",
    "def dict2tuple(q):\n",
    "    global iqm\n",
    "    for i,k in enumerate(q):\n",
    "        attr = []\n",
    "        for j in atributte:\n",
    "            if j in k:\n",
    "                attr.append(k[j])\n",
    "            else:\n",
    "                attr.append(None)\n",
    "        iqm = Iqmixer(*attr)\n",
    "\n",
    "dict2tuple(data['state'])\n",
    "print(f)"
   ]
  },
  {
   "cell_type": "code",
   "execution_count": 6,
   "metadata": {
    "ExecuteTime": {
     "end_time": "2020-08-11T11:24:44.672843Z",
     "start_time": "2020-08-11T11:24:44.642844Z"
    }
   },
   "outputs": [
    {
     "data": {
      "text/plain": [
       "Iqmixer(q_name='Iqm', alpha_read={}, alpha_ch1={}, alpha_ch2={'3.700000': array([ 9.000e-03, -3.500e-02, -5.096e+01]), '3.710000': array([ 5.000e-03, -3.700e-02, -4.909e+01]), '3.720000': array([ 3.00e-03, -3.90e-02, -5.27e+01]), '3.730000': array([ 1.000e-03, -4.000e-02, -5.184e+01]), '3.740000': array([-1.000e-03, -4.000e-02, -4.839e+01]), '3.750000': array([-2.000e-03, -4.100e-02, -4.951e+01]), '3.760000': array([-4.000e-03, -4.100e-02, -5.851e+01]), '3.770000': array([-5.000e-03, -4.100e-02, -5.005e+01]), '3.780000': array([-6.000e-03, -4.000e-02, -4.755e+01]), '3.790000': array([-7.000e-03, -4.000e-02, -4.957e+01]), '3.800000': array([-8.000e-03, -4.000e-02, -4.702e+01]), '3.810000': array([-1.000e-02, -3.900e-02, -4.516e+01]), '3.820000': array([-1.000e-02, -3.900e-02, -5.323e+01]), '3.830000': array([-1.100e-02, -3.900e-02, -4.999e+01]), '3.840000': array([-1.300e-02, -3.900e-02, -5.137e+01]), '3.850000': array([-1.400e-02, -3.900e-02, -4.885e+01]), '3.860000': array([-1.500e-02, -4.000e-02, -5.061e+01]), '3.870000': array([-1.600e-02, -3.900e-02, -4.861e+01]), '3.880000': array([-1.600e-02, -3.900e-02, -4.759e+01]), '3.890000': array([-1.700e-02, -3.900e-02, -4.944e+01]), '3.900000': array([-1.800e-02, -3.800e-02, -5.011e+01]), '3.910000': array([-2.000e-02, -3.800e-02, -4.836e+01]), '3.920000': array([-2.100e-02, -3.800e-02, -5.312e+01]), '3.930000': array([-2.200e-02, -3.800e-02, -5.746e+01]), '3.940000': array([-2.300e-02, -3.800e-02, -4.903e+01]), '3.950000': array([-2.500e-02, -3.800e-02, -5.017e+01]), '3.960000': array([-2.800e-02, -4.000e-02, -5.093e+01]), '3.970000': array([-2.900e-02, -4.300e-02, -5.079e+01]), '3.980000': array([-2.90e-02, -4.40e-02, -5.16e+01]), '3.990000': array([-3.000e-02, -4.400e-02, -5.041e+01]), '4.000000': array([ -0.074,   0.076, -55.97 ]), '4.010000': array([-3.200e-02, -4.700e-02, -4.959e+01]), '4.020000': array([-3.300e-02, -4.900e-02, -5.926e+01]), '4.030000': array([-3.300e-02, -5.200e-02, -5.268e+01]), '4.040000': array([-3.200e-02, -5.600e-02, -5.532e+01]), '4.050000': array([-2.800e-02, -6.200e-02, -5.832e+01]), '4.060000': array([-1.700e-02, -7.100e-02, -5.905e+01]), '4.070000': array([ 7.000e-03, -8.000e-02, -5.534e+01]), '4.080000': array([ 2.300e-02, -8.200e-02, -5.666e+01]), '4.090000': array([ 1.100e-02, -8.100e-02, -5.128e+01]), '4.100000': array([-6.000e-03, -9.600e-02, -5.201e+01]), '4.110000': array([-5.000e-03, -1.040e-01, -4.828e+01]), '4.120000': array([ 9.000e-03, -8.600e-02, -4.874e+01]), '4.130000': array([ 1.400e-02, -6.000e-02, -5.052e+01]), '4.140000': array([ 1.30e-02, -4.50e-02, -5.17e+01]), '4.150000': array([ 9.000e-03, -3.900e-02, -4.981e+01]), '4.160000': array([ 4.000e-03, -3.900e-02, -5.427e+01]), '4.170000': array([ 0.000e+00, -3.800e-02, -5.328e+01]), '4.180000': array([-3.00e-03, -3.70e-02, -5.74e+01]), '4.190000': array([-5.000e-03, -3.700e-02, -5.637e+01]), '4.200000': array([-6.000e-03, -3.700e-02, -5.251e+01]), '4.210000': array([-7.000e-03, -3.700e-02, -5.146e+01]), '4.220000': array([-8.000e-03, -3.700e-02, -5.052e+01]), '4.230000': array([-9.000e-03, -3.600e-02, -5.355e+01]), '4.240000': array([-1.000e-02, -3.500e-02, -5.197e+01]), '4.250000': array([-1.000e-02, -3.400e-02, -4.917e+01]), '4.260000': array([-1.100e-02, -3.300e-02, -5.002e+01]), '4.270000': array([-1.300e-02, -3.300e-02, -4.789e+01]), '4.280000': array([-1.400e-02, -3.200e-02, -5.087e+01]), '4.290000': array([-1.500e-02, -3.100e-02, -5.126e+01])}, alpha_ch3={'3.700000': array([ 1.600e-02, -2.600e-02, -6.603e+01]), '3.710000': array([ 1.000e-02, -2.800e-02, -6.615e+01]), '3.720000': array([ 6.000e-03, -2.900e-02, -6.563e+01]), '3.730000': array([ 4.000e-03, -2.900e-02, -6.427e+01]), '3.740000': array([ 1.000e-03, -2.900e-02, -6.527e+01]), '3.750000': array([-1.000e-03, -2.600e-02, -6.521e+01]), '3.760000': array([-5.000e-03, -3.000e-02, -6.478e+01]), '3.770000': array([-5.000e-03, -3.200e-02, -6.436e+01]), '3.780000': array([-6.00e-03, -3.20e-02, -6.46e+01]), '3.790000': array([-6.000e-03, -3.100e-02, -6.403e+01]), '3.800000': array([-7.000e-03, -3.100e-02, -6.473e+01]), '3.810000': array([-9.000e-03, -3.200e-02, -6.431e+01]), '3.820000': array([-1.000e-02, -3.400e-02, -6.433e+01]), '3.830000': array([-1.000e-02, -3.300e-02, -6.474e+01]), '3.840000': array([-1.000e-02, -3.200e-02, -6.492e+01]), '3.850000': array([-1.100e-02, -3.200e-02, -6.533e+01]), '3.860000': array([-1.200e-02, -3.200e-02, -6.517e+01]), '3.870000': array([-1.200e-02, -3.200e-02, -6.464e+01]), '3.880000': array([-1.300e-02, -3.100e-02, -6.614e+01]), '3.890000': array([-1.400e-02, -3.100e-02, -6.558e+01]), '3.900000': array([-1.400e-02, -3.100e-02, -6.598e+01]), '3.910000': array([-1.500e-02, -3.100e-02, -6.687e+01]), '3.920000': array([-1.600e-02, -3.100e-02, -6.659e+01]), '3.930000': array([-1.6e-02, -3.1e-02, -6.7e+01]), '3.940000': array([-1.600e-02, -3.200e-02, -6.639e+01]), '3.950000': array([-1.700e-02, -3.400e-02, -6.695e+01]), '3.960000': array([-1.700e-02, -3.400e-02, -6.572e+01]), '3.970000': array([-1.700e-02, -3.500e-02, -6.608e+01]), '3.980000': array([-1.600e-02, -3.400e-02, -6.619e+01]), '3.990000': array([-1.70e-02, -3.30e-02, -6.53e+01]), '4.000000': array([-1.900e-02, -3.200e-02, -6.568e+01]), '4.010000': array([-2.100e-02, -3.900e-02, -6.536e+01]), '4.020000': array([-2.100e-02, -4.000e-02, -6.503e+01]), '4.030000': array([-2.100e-02, -4.100e-02, -6.517e+01]), '4.040000': array([-2.100e-02, -4.100e-02, -6.465e+01]), '4.050000': array([-2.200e-02, -4.400e-02, -6.507e+01]), '4.060000': array([-2.300e-02, -4.600e-02, -6.507e+01]), '4.070000': array([-2.500e-02, -5.100e-02, -6.505e+01]), '4.080000': array([-2.600e-02, -5.500e-02, -6.535e+01]), '4.090000': array([-2.800e-02, -5.800e-02, -6.545e+01]), '4.100000': array([-3.100e-02, -6.100e-02, -6.554e+01]), '4.110000': array([-3.00e-02, -6.60e-02, -6.61e+01]), '4.120000': array([-2.500e-02, -8.200e-02, -6.643e+01]), '4.130000': array([-8.000e-03, -1.030e-01, -6.676e+01]), '4.140000': array([ 7.000e-03, -9.400e-02, -6.698e+01]), '4.150000': array([ 3.900e-02, -8.100e-02, -6.693e+01]), '4.160000': array([ 8.800e-02, -6.200e-02, -6.694e+01]), '4.170000': array([ 6.400e-02, -3.500e-02, -6.697e+01]), '4.180000': array([ 3.800e-02, -2.400e-02, -6.697e+01]), '4.190000': array([ 2.300e-02, -2.100e-02, -6.707e+01]), '4.200000': array([ 1.5e-02, -1.9e-02, -6.7e+01]), '4.210000': array([ 9.000e-03, -1.900e-02, -6.751e+01]), '4.220000': array([ 5.000e-03, -1.800e-02, -6.721e+01]), '4.230000': array([ 1.000e-03, -1.800e-02, -6.622e+01]), '4.240000': array([-2.000e-03, -1.800e-02, -6.644e+01]), '4.250000': array([-3.000e-03, -1.700e-02, -6.598e+01]), '4.260000': array([-3.000e-03, -1.500e-02, -6.135e+01]), '4.270000': array([-6.000e-03, -1.700e-02, -6.588e+01]), '4.280000': array([-7.000e-03, -1.700e-02, -6.637e+01]), '4.290000': array([-8.000e-03, -1.700e-02, -6.567e+01])}, alpha_ch4={'3.700000': array([ 1.40000e-02, -3.00000e-02, -6.25600e+01, -1.87094e+00,\n",
       "        1.00000e+00,  1.00000e+00, -6.21100e+01]), '3.710000': array([ 7.00000e-03, -3.00000e-02, -6.18300e+01, -1.85087e+00,\n",
       "        1.00000e+00,  1.00000e+00, -5.21700e+01]), '3.720000': array([ 3.00000e-03, -3.00000e-02, -6.28400e+01, -1.84326e+00,\n",
       "        1.00000e+00,  1.00000e+00, -4.65600e+01]), '3.730000': array([-0.00000e+00, -2.90000e-02, -6.01500e+01, -1.83367e+00,\n",
       "        1.00000e+00,  1.00000e+00, -4.38100e+01]), '3.740000': array([-3.00000e-03, -2.90000e-02, -6.05700e+01, -1.82738e+00,\n",
       "        1.00000e+00,  1.00000e+00, -4.21500e+01]), '3.750000': array([-4.00000e-03, -2.60000e-02, -6.18900e+01, -1.83459e+00,\n",
       "        1.00000e+00,  1.00000e+00, -4.11500e+01]), '3.760000': array([-1.00000e-02, -3.10000e-02, -6.25100e+01, -1.83682e+00,\n",
       "        1.00000e+00,  1.00000e+00, -4.04000e+01]), '3.770000': array([-1.00000e-02, -3.50000e-02, -6.14000e+01, -1.83505e+00,\n",
       "        1.00000e+00,  1.00000e+00, -4.90600e+01]), '3.780000': array([-1.00000e-02, -3.40000e-02, -6.05400e+01, -1.83173e+00,\n",
       "        1.00000e+00,  1.00000e+00, -3.97600e+01]), '3.790000': array([-1.10000e-02, -3.30000e-02, -5.83400e+01, -1.83695e+00,\n",
       "        1.00000e+00,  1.00000e+00, -3.96200e+01]), '3.800000': array([-1.10000e-02, -3.30000e-02, -6.40800e+01, -1.83998e+00,\n",
       "        1.00000e+00,  1.00000e+00, -3.98100e+01]), '3.810000': array([-1.20000e-02, -3.40000e-02, -6.24400e+01, -1.83689e+00,\n",
       "        1.00000e+00,  1.00000e+00, -4.03400e+01]), '3.820000': array([-1.40000e-02, -3.50000e-02, -6.18200e+01, -1.83305e+00,\n",
       "        1.00000e+00,  1.00000e+00, -4.07400e+01]), '3.830000': array([-1.50000e-02, -3.50000e-02, -5.91900e+01, -1.83568e+00,\n",
       "        1.00000e+00,  1.00000e+00, -4.10800e+01]), '3.840000': array([-1.50000e-02, -3.30000e-02, -6.09000e+01, -1.82942e+00,\n",
       "        1.00000e+00,  1.00000e+00, -4.09200e+01]), '3.850000': array([-1.5000e-02, -3.3000e-02, -6.0050e+01, -1.8409e+00,  1.0000e+00,\n",
       "        1.0000e+00, -4.0570e+01]), '3.860000': array([-1.6000e-02, -3.3000e-02, -6.1620e+01, -1.8498e+00,  1.0000e+00,\n",
       "        1.0000e+00, -3.9570e+01]), '3.870000': array([-1.60000e-02, -3.20000e-02, -6.00300e+01, -1.84653e+00,\n",
       "        1.00000e+00,  1.00000e+00, -3.97800e+01]), '3.880000': array([-1.70000e-02, -3.10000e-02, -6.15100e+01, -1.86283e+00,\n",
       "        1.00000e+00,  1.00000e+00, -3.96000e+01]), '3.890000': array([-1.80000e-02, -3.00000e-02, -6.59200e+01, -1.86992e+00,\n",
       "        1.00000e+00,  1.00000e+00, -3.95300e+01]), '3.900000': array([-1.90000e-02, -2.90000e-02, -5.93600e+01, -1.89253e+00,\n",
       "        1.00000e+00,  1.00000e+00, -3.95000e+01]), '3.910000': array([-2.10000e-02, -3.00000e-02, -6.22800e+01, -1.88366e+00,\n",
       "        1.00000e+00,  1.00000e+00, -3.96700e+01]), '3.920000': array([-2.10000e-02, -2.90000e-02, -6.27200e+01, -1.87833e+00,\n",
       "        1.00000e+00,  1.00000e+00, -3.90300e+01]), '3.930000': array([-2.20000e-02, -2.80000e-02, -6.41800e+01, -1.89777e+00,\n",
       "        1.00000e+00,  1.00000e+00, -3.90400e+01]), '3.940000': array([-2.20000e-02, -2.80000e-02, -6.07600e+01, -1.90157e+00,\n",
       "        1.00000e+00,  1.00000e+00, -3.93400e+01]), '3.950000': array([-2.30000e-02, -2.90000e-02, -6.60500e+01, -1.89454e+00,\n",
       "        1.00000e+00,  1.00000e+00, -3.97900e+01]), '3.960000': array([-2.30000e-02, -2.90000e-02, -6.23700e+01, -1.89161e+00,\n",
       "        1.00000e+00,  1.00000e+00, -3.94200e+01]), '3.970000': array([-2.4000e-02, -2.9000e-02, -6.5490e+01, -1.8738e+00,  1.0000e+00,\n",
       "        1.0000e+00, -3.8720e+01]), '3.980000': array([-2.40000e-02, -2.80000e-02, -6.18800e+01, -1.87778e+00,\n",
       "        1.00000e+00,  1.00000e+00, -3.82500e+01]), '3.990000': array([-2.50000e-02, -2.80000e-02, -6.27800e+01, -1.87156e+00,\n",
       "        1.00000e+00,  1.00000e+00, -3.79800e+01]), '4.000000': array([-2.60000e-02, -2.60000e-02, -6.48100e+01, -1.86956e+00,\n",
       "        1.00000e+00,  1.00000e+00, -3.78000e+01]), '4.010000': array([-2.90000e-02, -3.10000e-02, -6.19500e+01, -1.85574e+00,\n",
       "        1.00000e+00,  1.00000e+00, -3.71000e+01]), '4.020000': array([-2.80000e-02, -3.20000e-02, -6.05700e+01, -1.83478e+00,\n",
       "        1.00000e+00,  1.00000e+00, -3.63600e+01]), '4.030000': array([-2.80000e-02, -3.20000e-02, -6.37500e+01, -1.82876e+00,\n",
       "        1.00000e+00,  1.00000e+00, -3.56800e+01]), '4.040000': array([-2.90000e-02, -3.10000e-02, -6.18300e+01, -1.80911e+00,\n",
       "        1.00000e+00,  1.00000e+00, -3.48300e+01]), '4.050000': array([-3.00000e-02, -3.10000e-02, -6.46500e+01, -1.80288e+00,\n",
       "        1.00000e+00,  1.00000e+00, -3.43100e+01]), '4.060000': array([-3.20000e-02, -3.10000e-02, -6.25700e+01, -1.81046e+00,\n",
       "        1.00000e+00,  1.00000e+00, -3.28900e+01]), '4.070000': array([-3.3000e-02, -3.2000e-02, -6.2320e+01, -1.7937e+00,  1.0000e+00,\n",
       "        1.0000e+00, -3.1510e+01]), '4.080000': array([-3.5000e-02, -3.5000e-02, -6.1620e+01, -1.7929e+00,  1.0000e+00,\n",
       "        1.0000e+00, -3.0180e+01]), '4.090000': array([-3.70000e-02, -3.60000e-02, -6.41200e+01, -1.78695e+00,\n",
       "        1.00000e+00,  1.00000e+00, -2.85900e+01]), '4.100000': array([-3.90000e-02, -3.70000e-02, -6.38700e+01, -1.78738e+00,\n",
       "        1.00000e+00,  1.00000e+00, -2.64400e+01]), '4.110000': array([-4.40000e-02, -4.00000e-02, -6.32600e+01, -1.72176e+00,\n",
       "        1.00000e+00,  1.00000e+00, -2.42300e+01]), '4.120000': array([-4.90000e-02, -4.60000e-02, -6.40400e+01, -1.67771e+00,\n",
       "        1.00000e+00,  1.00000e+00, -2.16100e+01]), '4.130000': array([-5.20000e-02, -5.70000e-02, -6.57900e+01, -1.43117e+00,\n",
       "        1.00000e+00,  1.00000e+00, -1.94300e+01]), '4.140000': array([-5.00000e-02, -7.90000e-02, -6.67300e+01, -1.40386e+00,\n",
       "        1.00000e+00,  1.00000e+00, -1.99100e+01]), '4.150000': array([-1.20000e-02, -1.26000e-01, -6.65600e+01, -1.53403e+00,\n",
       "        1.00000e+00,  1.00000e+00, -2.03100e+01]), '4.160000': array([  0.067  ,  -0.116  , -66.69   ,  -2.26487,   1.     ,   1.     ,\n",
       "       -32.03   ]), '4.170000': array([ 4.2000e-02, -6.6000e-02, -6.3220e+01, -1.8492e+00,  1.0000e+00,\n",
       "        1.0000e+00, -4.3700e+01]), '4.180000': array([ 2.40000e-02, -4.40000e-02, -6.53800e+01, -1.82027e+00,\n",
       "        1.00000e+00,  1.00000e+00, -6.02800e+01]), '4.190000': array([ 1.20000e-02, -3.60000e-02, -6.26300e+01, -1.83205e+00,\n",
       "        1.00000e+00,  1.00000e+00, -4.29000e+01]), '4.200000': array([ 5.00000e-03, -3.30000e-02, -6.42800e+01, -1.85251e+00,\n",
       "        1.00000e+00,  1.00000e+00, -4.02000e+01]), '4.210000': array([ 0.0000e+00, -3.1000e-02, -6.5250e+01, -1.8579e+00,  1.0000e+00,\n",
       "        1.0000e+00, -3.9580e+01]), '4.220000': array([-4.00000e-03, -2.90000e-02, -6.60300e+01, -1.88031e+00,\n",
       "        1.00000e+00,  1.00000e+00, -4.01100e+01]), '4.230000': array([-7.00000e-03, -2.70000e-02, -6.48900e+01, -1.88286e+00,\n",
       "        1.00000e+00,  1.00000e+00, -4.12900e+01]), '4.240000': array([-1.00000e-02, -2.60000e-02, -6.23700e+01, -1.88158e+00,\n",
       "        1.00000e+00,  1.00000e+00, -4.25600e+01]), '4.250000': array([-1.20000e-02, -2.40000e-02, -6.46100e+01, -1.86243e+00,\n",
       "        1.00000e+00,  1.00000e+00, -4.33800e+01]), '4.260000': array([-1.40000e-02, -2.30000e-02, -6.37200e+01, -1.86268e+00,\n",
       "        1.00000e+00,  1.00000e+00, -4.39900e+01]), '4.270000': array([-1.6000e-02, -2.6000e-02, -6.1770e+01, -1.8592e+00,  1.0000e+00,\n",
       "        1.0000e+00, -4.4860e+01]), '4.280000': array([-1.70000e-02, -2.60000e-02, -6.08900e+01, -1.84787e+00,\n",
       "        1.00000e+00,  1.00000e+00, -4.53000e+01]), '4.290000': array([-1.8000e-02, -2.5000e-02, -6.2500e+01, -1.8515e+00,  1.0000e+00,\n",
       "        1.0000e+00, -4.5730e+01]), '4.300000': array([-1.80e-02, -2.50e-02, -6.26e+01]), '4.310000': array([-1.900e-02, -2.400e-02, -5.925e+01])}, alpha_ch5={'3.700000': array([-2.80000e-02,  3.00000e-03, -6.41600e+01, -1.22186e+00,\n",
       "        1.00000e+00,  1.00000e+00, -5.30400e+01]), '3.720000': array([-3.10000e-02, -8.00000e-03, -6.49600e+01, -1.26212e+00,\n",
       "        1.00000e+00,  1.00000e+00, -5.66300e+01]), '3.740000': array([-3.10000e-02, -1.20000e-02, -6.29300e+01, -1.27095e+00,\n",
       "        1.00000e+00,  1.00000e+00, -4.97800e+01]), '3.760000': array([-3.2000e-02, -1.8000e-02, -6.1320e+01, -1.2702e+00,  1.0000e+00,\n",
       "        1.0000e+00, -4.6160e+01]), '3.780000': array([-3.40000e-02, -1.90000e-02, -6.27100e+01, -1.26521e+00,\n",
       "        1.00000e+00,  1.00000e+00, -4.52200e+01]), '3.800000': array([-3.40000e-02, -2.00000e-02, -6.30200e+01, -1.26527e+00,\n",
       "        1.00000e+00,  1.00000e+00, -4.44600e+01]), '3.820000': array([-3.60000e-02, -2.30000e-02, -6.03200e+01, -1.27112e+00,\n",
       "        1.00000e+00,  1.00000e+00, -4.41800e+01]), '3.840000': array([-3.60000e-02, -2.30000e-02, -6.48400e+01, -1.26743e+00,\n",
       "        1.00000e+00,  1.00000e+00, -4.61800e+01]), '3.860000': array([-3.40000e-02, -2.30000e-02, -6.22400e+01, -1.25108e+00,\n",
       "        1.00000e+00,  1.00000e+00, -4.63300e+01]), '3.880000': array([-3.3000e-02, -2.4000e-02, -6.3390e+01, -1.2551e+00,  1.0000e+00,\n",
       "        1.0000e+00, -4.7050e+01]), '3.900000': array([-3.20000e-02, -2.50000e-02, -6.43800e+01, -1.24365e+00,\n",
       "        1.00000e+00,  1.00000e+00, -4.75700e+01]), '3.920000': array([-3.10000e-02, -2.70000e-02, -6.50400e+01, -1.24463e+00,\n",
       "        1.00000e+00,  1.00000e+00, -4.51200e+01]), '3.940000': array([-3.00000e-02, -2.80000e-02, -6.56200e+01, -1.23277e+00,\n",
       "        1.00000e+00,  1.00000e+00, -4.53900e+01]), '3.960000': array([-3.10000e-02, -3.00000e-02, -6.33000e+01, -1.24175e+00,\n",
       "        1.00000e+00,  1.00000e+00, -4.72100e+01]), '3.980000': array([-3.00000e-02, -3.10000e-02, -6.37500e+01, -1.24269e+00,\n",
       "        1.00000e+00,  1.00000e+00, -4.52900e+01]), '4.000000': array([-2.60000e-02, -3.20000e-02, -5.06600e+01, -1.24830e+00,\n",
       "        1.00000e+00,  1.00000e+00, -4.50400e+01, -1.25533e+00,\n",
       "        1.00000e+00,  1.00000e+00, -4.56100e+01]), '4.020000': array([-3.3000e-02, -3.6000e-02, -6.3840e+01, -1.2799e+00,  1.0000e+00,\n",
       "        1.0000e+00, -4.6080e+01]), '4.040000': array([-3.20000e-02, -3.70000e-02, -6.45100e+01, -1.30615e+00,\n",
       "        1.00000e+00,  1.00000e+00, -4.46400e+01]), '4.060000': array([-3.1000e-02, -4.0000e-02, -6.2640e+01, -1.3574e+00,  1.0000e+00,\n",
       "        1.0000e+00, -4.2090e+01]), '4.080000': array([-3.40000e-02, -4.30000e-02, -6.25500e+01, -1.41016e+00,\n",
       "        1.00000e+00,  1.00000e+00, -3.68900e+01]), '4.100000': array([-3.70000e-02, -5.00000e-02, -6.38700e+01, -1.51926e+00,\n",
       "        1.00000e+00,  1.00000e+00, -3.01500e+01]), '4.120000': array([-4.40000e-02, -5.10000e-02, -6.58200e+01, -1.90584e+00,\n",
       "        1.00000e+00,  1.00000e+00, -2.26100e+01]), '4.140000': array([-9.5000e-02, -2.6000e-02, -6.6770e+01, -2.0083e+00,  1.0000e+00,\n",
       "        1.0000e+00, -2.1680e+01]), '4.160000': array([-8.50000e-02,  4.40000e-02, -6.46800e+01, -1.08422e+00,\n",
       "        1.00000e+00,  1.00000e+00, -5.04700e+01]), '4.180000': array([-3.80000e-02,  1.10000e-02, -6.50100e+01, -1.22353e+00,\n",
       "        1.00000e+00,  1.00000e+00, -3.52400e+01]), '4.200000': array([-3.40000e-02, -1.00000e-02, -6.61600e+01, -1.27849e+00,\n",
       "        1.00000e+00,  1.00000e+00, -4.16300e+01]), '4.220000': array([-3.30000e-02, -1.90000e-02, -6.25400e+01, -1.29549e+00,\n",
       "        1.00000e+00,  1.00000e+00, -6.48900e+01]), '4.240000': array([-3.00000e-02, -2.30000e-02, -6.28000e+01, -1.28525e+00,\n",
       "        1.00000e+00,  1.00000e+00, -4.70000e+01]), '4.260000': array([-2.90000e-02, -2.70000e-02, -6.67400e+01, -1.28774e+00,\n",
       "        1.00000e+00,  1.00000e+00, -4.61500e+01]), '4.280000': array([-3.00000e-02, -2.90000e-02, -6.39200e+01, -1.29078e+00,\n",
       "        1.00000e+00,  1.00000e+00, -4.69100e+01]), '4.300000': array([-2.80000e-02, -2.90000e-02, -6.25400e+01, -1.30388e+00,\n",
       "        1.00000e+00,  1.00000e+00, -4.64600e+01]), '4.320000': array([-2.80000e-02, -3.00000e-02, -6.49700e+01, -1.31859e+00,\n",
       "        1.00000e+00,  1.00000e+00, -4.52700e+01]), '4.340000': array([-2.7000e-02, -3.0000e-02, -6.2520e+01, -1.3157e+00,  1.0000e+00,\n",
       "        1.0000e+00, -4.5710e+01]), '4.360000': array([-2.70000e-02, -3.00000e-02, -6.45000e+01, -1.30582e+00,\n",
       "        1.00000e+00,  1.00000e+00, -4.53400e+01])}, beta_read={}, beta_ch1={}, beta_ch2={}, beta_ch3={}, beta_ch4={}, beta_ch5={})"
      ]
     },
     "execution_count": 6,
     "metadata": {},
     "output_type": "execute_result"
    }
   ],
   "source": [
    "iqm"
   ]
  },
  {
   "cell_type": "markdown",
   "metadata": {},
   "source": [
    "# 找频率位置"
   ]
  },
  {
   "cell_type": "code",
   "execution_count": 5,
   "metadata": {
    "ExecuteTime": {
     "end_time": "2020-06-22T09:46:30.566207Z",
     "start_time": "2020-06-22T09:46:30.527214Z"
    }
   },
   "outputs": [
    {
     "data": {
      "text/plain": [
       "500"
      ]
     },
     "execution_count": 5,
     "metadata": {},
     "output_type": "execute_result"
    }
   ],
   "source": [
    "f_center = eval(spec.query('FREQuency:CENTer?').strip('\\n'))\n",
    "f_start = spec.query_ascii_values(':FREQ:START?')[0]\n",
    "f_stop = spec.query_ascii_values(':FREQ:STOP?')[0]\n",
    "y = np.asarray(spec.query_ascii_values(':TRACe? TRACE1 '))\n",
    "f = np.linspace(f_start, f_stop, len(y))\n",
    "np.abs(f-4.1318e9).argmin()"
   ]
  },
  {
   "cell_type": "markdown",
   "metadata": {},
   "source": [
    "# 压制本振"
   ]
  },
  {
   "cell_type": "code",
   "execution_count": 7,
   "metadata": {
    "ExecuteTime": {
     "end_time": "2020-08-11T11:25:11.233697Z",
     "start_time": "2020-08-11T11:25:08.283558Z"
    }
   },
   "outputs": [],
   "source": [
    "ch_I, ch_Q = 2,6\n",
    "await cw.genwaveform(awg,['opt_I','opt_Q'],[ch_I,ch_Q])\n",
    "pulse = await cw.rabiWave(envelopename='square',during=0/1e9,shift=0,DRAGScaling=None)\n",
    "await cw.writeWave(awg,['opt_I','opt_Q'],pulse)\n",
    "await awg.output_on(ch=ch_I)\n",
    "await awg.output_on(ch=ch_Q)\n",
    "await cw.couldRun(awg)"
   ]
  },
  {
   "cell_type": "code",
   "execution_count": 8,
   "metadata": {
    "ExecuteTime": {
     "end_time": "2020-08-11T11:25:26.313849Z",
     "start_time": "2020-08-11T11:25:26.307853Z"
    }
   },
   "outputs": [],
   "source": [
    "async def SNR(offset1,offset2):\n",
    "    global ch_I, ch_Q\n",
    "    await awg.setValue('Offset',offset1,ch=ch_I)\n",
    "    await awg.setValue('Offset',offset2,ch=ch_Q)\n",
    "    time.sleep(2)\n",
    "    await cw.couldRun(awg)\n",
    "    y = []\n",
    "    for i in range(20):\n",
    "        time.sleep(0.5)\n",
    "        y.append(np.asarray(spec.query_ascii_values(':TRACe? TRACE1 ')))\n",
    "    y = np.mean(y,axis=0)\n",
    "#     print(np.mean(y[480:520]))\n",
    "    return np.mean(y[490:510])"
   ]
  },
  {
   "cell_type": "code",
   "execution_count": 12,
   "metadata": {
    "ExecuteTime": {
     "end_time": "2020-08-11T11:44:38.470226Z",
     "start_time": "2020-08-11T11:36:33.437199Z"
    }
   },
   "outputs": [
    {
     "name": "stdout",
     "output_type": "stream",
     "text": [
      ".o\n",
      "[-0.05  0.05] -37.328128874825   .o\n",
      "[-0.045  0.05 ] -37.5448875012   ..o\n",
      "[-0.045  0.045] -37.82490399975   .o\n",
      "[-0.043  0.04 ] -38.2148910031   .o\n",
      "[-0.038  0.04 ] -38.591645419125   .o\n",
      "[-0.031  0.035] -39.567034339799996   .o\n",
      "[-0.029  0.025] -40.91273286017499   .o\n",
      "[-0.021  0.013] -43.84895802639999   .o\n",
      "[-0.009  0.008] -46.857801367549996   .o\n",
      "[ 0.007 -0.009] -53.899270425175   .......o\n",
      "[ 0.006 -0.012] -55.74745419324999   ...o\n",
      "[-0.    -0.011] -60.1995336582   .o\n",
      "[-0.004 -0.012] -62.197265023125   .o\n",
      "[ 0.    -0.017] -64.545086548675   ...o\n",
      "[-0.006 -0.016] -65.33810413885   ..o\n",
      "[-0.003 -0.014] -67.776248548825   ..o\n",
      "[-0.002 -0.016] -72.46310522355   ..o\n",
      "[-0.004 -0.016] -72.92076632092501   .o\n",
      "[-0.003 -0.017] -74.49108346202499   ...o\n",
      "[-0.003 -0.016] -76.78543580450003   ................\n",
      " CacheInfo(hits=14, misses=38, maxsize=128, currsize=38)\n"
     ]
    }
   ],
   "source": [
    "start = [-0.05,0.05]\n",
    "senstive = np.abs(start)/10\n",
    "ret = opt.optimize(SNR,start,senstive,[3,3],high=[2,2],low=[-2,-2],print_info=True,algorithm='minimize')"
   ]
  },
  {
   "cell_type": "code",
   "execution_count": 13,
   "metadata": {
    "ExecuteTime": {
     "end_time": "2020-08-11T11:44:58.800772Z",
     "start_time": "2020-08-11T11:44:58.796776Z"
    }
   },
   "outputs": [
    {
     "data": {
      "text/plain": [
       "array([-0.003, -0.016])"
      ]
     },
     "execution_count": 13,
     "metadata": {},
     "output_type": "execute_result"
    }
   ],
   "source": [
    "ret.x"
   ]
  },
  {
   "cell_type": "code",
   "execution_count": 15,
   "metadata": {
    "ExecuteTime": {
     "end_time": "2020-08-11T15:12:26.290336Z",
     "start_time": "2020-08-11T15:12:26.173914Z"
    }
   },
   "outputs": [],
   "source": [
    "await awg.setValue('Offset',-0.003,ch=ch_I)\n",
    "await awg.setValue('Offset',-0.016,ch=ch_Q)"
   ]
  },
  {
   "cell_type": "code",
   "execution_count": 33,
   "metadata": {
    "ExecuteTime": {
     "end_time": "2020-06-23T12:27:28.897761Z",
     "start_time": "2020-06-23T12:27:28.891750Z"
    }
   },
   "outputs": [],
   "source": [
    "del iqm.beta_ch2['4106716000.000000']"
   ]
  },
  {
   "cell_type": "code",
   "execution_count": 47,
   "metadata": {
    "ExecuteTime": {
     "end_time": "2020-06-26T13:12:34.571106Z",
     "start_time": "2020-06-26T13:12:34.543130Z"
    }
   },
   "outputs": [],
   "source": [
    "iqm.alpha_ch4['%f'%(f_cent/1e9)] = [-0.076, -0.225]"
   ]
  },
  {
   "cell_type": "markdown",
   "metadata": {},
   "source": [
    "# 压制镜像"
   ]
  },
  {
   "cell_type": "code",
   "execution_count": 134,
   "metadata": {
    "ExecuteTime": {
     "end_time": "2020-07-07T01:43:36.381961Z",
     "start_time": "2020-07-07T01:43:36.273965Z"
    }
   },
   "outputs": [],
   "source": [
    "rm = visa.ResourceManager()\n",
    "spec = rm.open_resource('TCPIP::10.122.7.191')\n",
    "awg = await connect('AWG132')\n",
    "await awg.setValue('Run Mode','Continuous')    # Triggered\n",
    "psg_ex1 = await connect('PSG105')"
   ]
  },
  {
   "cell_type": "code",
   "execution_count": 135,
   "metadata": {
    "ExecuteTime": {
     "end_time": "2020-07-07T01:43:38.513940Z",
     "start_time": "2020-07-07T01:43:38.456902Z"
    }
   },
   "outputs": [],
   "source": [
    "await awg.clear_waveform_list()\n",
    "for j in range(8):\n",
    "    await awg.output_off(ch=j+1)"
   ]
  },
  {
   "cell_type": "code",
   "execution_count": 136,
   "metadata": {
    "ExecuteTime": {
     "end_time": "2020-07-07T01:43:45.865950Z",
     "start_time": "2020-07-07T01:43:43.730998Z"
    }
   },
   "outputs": [],
   "source": [
    "ch_I, ch_Q = 1,2\n",
    "t_new = t_new = np.linspace(-50000,50000,250000)*1e-9\n",
    "iqm_ch = iqm.alpha_ch4\n",
    "\n",
    "await cw.genwaveform(awg,['opt_I','opt_Q'],[ch_I,ch_Q])\n",
    "pulse = await cw.rabiWave(envelopename='square',during=0/1e9,shift=0,DRAGScaling=None)\n",
    "await cw.writeWave(awg,['opt_I','opt_Q'],pulse)\n",
    "await awg.output_on(ch=ch_I)\n",
    "await awg.output_on(ch=ch_Q)\n",
    "await cw.couldRun(awg)"
   ]
  },
  {
   "cell_type": "code",
   "execution_count": 137,
   "metadata": {
    "ExecuteTime": {
     "end_time": "2020-07-07T01:43:48.639616Z",
     "start_time": "2020-07-07T01:43:48.627630Z"
    }
   },
   "outputs": [],
   "source": [
    "async def ImReject_wave(phasediff,amp1=1,amp2=1,during=110e-6,Delta_lo=200e6):\n",
    "    global ch_I, ch_Q, awg, t_new\n",
    "    pulse = wn.square(during)\n",
    "    wav_I, wav_Q = wn.mixing(pulse,phase=0,freq=Delta_lo,ratioIQ=-1.0,phaseDiff=phasediff)\n",
    "    await cw.writeWave(awg,['opt_I','opt_Q'],(amp1*wav_I,amp2*wav_Q,wn.zero(),wn.zero()),t=t_new)\n",
    "    await cw.couldRun(awg)"
   ]
  },
  {
   "cell_type": "code",
   "execution_count": 138,
   "metadata": {
    "ExecuteTime": {
     "end_time": "2020-07-07T01:43:51.906329Z",
     "start_time": "2020-07-07T01:43:51.895333Z"
    }
   },
   "outputs": [],
   "source": [
    "async def phaseSNR(phasediff,amp1,amp2):\n",
    "    await ImReject_wave(phasediff,amp1,amp2)\n",
    "    time.sleep(2)\n",
    "    await cw.couldRun(awg)\n",
    "    y = []\n",
    "    for i in range(30):\n",
    "        time.sleep(0.2)\n",
    "        y.append(np.asarray(spec.query_ascii_values(':TRACe? TRACE1 ')))\n",
    "    y = np.mean(y,axis=0)\n",
    "#     print(np.mean(y[480:520]))\n",
    "    return np.mean(y[490:510])"
   ]
  },
  {
   "cell_type": "code",
   "execution_count": 73,
   "metadata": {
    "ExecuteTime": {
     "end_time": "2020-07-06T02:58:46.693538Z",
     "start_time": "2020-07-06T02:39:06.895309Z"
    }
   },
   "outputs": [
    {
     "name": "stdout",
     "output_type": "stream",
     "text": [
      "4.0\n",
      ".o\n",
      "[0. 1. 1.] -32.249285856916664   .o\n",
      "[0.15708 1.      1.     ] -37.563752245316664   ............o\n",
      "[0.17063 0.992   1.     ] -37.9686152808   ........o\n",
      "[0.16763 0.991   1.     ] -38.04266755233333   .o\n",
      "[0.1729 0.986  1.    ] -38.5309897478   ...o\n",
      "[0.17734 0.976   1.     ] -39.19967553711666   .o\n",
      "[0.1807 0.968  1.    ] -39.724566011166665   ..o\n",
      "[0.17816 0.97    1.     ] -39.75621110385   ..o\n",
      "[0.17046 0.961   1.     ] -40.99486994866666   .o\n",
      "[0.16925 0.948   1.     ] -42.40430503353333   ....o\n",
      "[0.17523 0.927   1.     ] -42.96017236611667   ..o\n",
      "[0.16027 0.928   1.     ] -45.922624123666665   .o\n",
      "[0.14743 0.916   1.     ] -50.40167059141667   ....o\n",
      "[0.13489 0.922   1.     ] -55.3965154576   ..........o\n",
      "[0.13526 0.914   1.     ] -58.52207622708333   ....o\n",
      "[0.12917 0.915   1.     ] -61.2554357441   ....o\n",
      "[0.13105 0.916   1.     ] -65.69378754393333   ...........o\n",
      "[0.13199 0.916   1.     ] -66.70229221995001   ..........o\n",
      "[0.13176 0.916   1.     ] -66.74479603581668   .......o\n",
      "[0.13199 0.915   1.     ] -66.82632647173335   .................................\n",
      " CacheInfo(hits=21, misses=101, maxsize=128, currsize=101)\n"
     ]
    },
    {
     "data": {
      "text/plain": [
       " final_simplex: (array([[0.13198853, 0.91544729, 1.08793714],\n",
       "       [0.13198906, 0.91544837, 1.08793804],\n",
       "       [0.13199012, 0.91545215, 1.0879319 ],\n",
       "       [0.1319949 , 0.91544924, 1.08793536]]), array([-66.82632647, -66.82632647, -66.82632647, -66.82632647]))\n",
       "           fun: -66.82632647173335\n",
       "       message: 'Optimization terminated successfully.'\n",
       "          nfev: 122\n",
       "           nit: 60\n",
       "        status: 0\n",
       "       success: True\n",
       "             x: array([0.13199, 0.915  , 1.     ])"
      ]
     },
     "execution_count": 73,
     "metadata": {},
     "output_type": "execute_result"
    }
   ],
   "source": [
    "i = 4e9\n",
    "await psg_ex1.setValue('Output','ON')\n",
    "await psg_ex1.setValue('Frequency',i)\n",
    "para = iqm_ch['%.6f'%(i/1e9)]\n",
    "await awg.setValue('Offset',para[0],ch=ch_I)\n",
    "await awg.setValue('Offset',para[1],ch=ch_Q)\n",
    "spec.write('FREQ:CENT %f'%(i+200e6))\n",
    "print(round(i/1e9,4))\n",
    "opt.optimize(phaseSNR,[0,1,1],[np.pi/20,0.01,0.01],[5,3,3],high=[np.pi,1,1],low=[-np.pi,0,0],print_info=True)"
   ]
  },
  {
   "cell_type": "code",
   "execution_count": 118,
   "metadata": {
    "ExecuteTime": {
     "end_time": "2020-07-06T08:18:50.661597Z",
     "start_time": "2020-07-06T08:18:47.693946Z"
    }
   },
   "outputs": [],
   "source": [
    "await ImReject_wave(0)"
   ]
  },
  {
   "cell_type": "code",
   "execution_count": 139,
   "metadata": {
    "ExecuteTime": {
     "end_time": "2020-07-07T20:19:32.671784Z",
     "start_time": "2020-07-07T01:44:02.030369Z"
    }
   },
   "outputs": [],
   "source": [
    "# start = [-0.05,0.05]\n",
    "# senstive = np.abs(start)/10\n",
    "await psg_ex1.setValue('Output','ON')\n",
    "for j, i in enumerate(np.arange(3.7,4.3,0.01)*1e9,start=1):\n",
    "    os.environ['CUDA_VISIBLE_DEVICES'] = '1'\n",
    "    await psg_ex1.setValue('Frequency',i)\n",
    "    para = iqm_ch['%.6f'%(i/1e9)]\n",
    "    await awg.setValue('Offset',para[0],ch=ch_I)\n",
    "    await awg.setValue('Offset',para[1],ch=ch_Q)\n",
    "    spec.write('FREQ:CENT %f'%(i+200e6))\n",
    "    print(round(i/1e9,4))\n",
    "    try:\n",
    "        ret = opt.optimize(phaseSNR,[0,1,1],[np.pi/20,0.01,0.01],[5,3,3],high=[np.pi,1,1],low=[-np.pi,0,0],print_info=True)\n",
    "        coef = ret.x\n",
    "        coef = np.append(coef,round(ret.fun,2))\n",
    "        iqm_ch['%.6f'%(i/1e9)] = np.append(iqm_ch['%.6f'%(i/1e9)],coef)\n",
    "    except:\n",
    "        pass\n",
    "    if j % 5 == 0:\n",
    "        clear_output()\n",
    "        filepath = save('IQMixerState','iqmixerstate',state = tuple2dict([iqm]),base_path=r'D:\\skzhao\\file_name')\n",
    "        with open(r'D:\\skzhao\\file_name\\iqmixer_state.txt', mode='a') as filename:\n",
    "            filename.write(str(filepath))\n",
    "            filename.write('\\n')"
   ]
  },
  {
   "cell_type": "code",
   "execution_count": 115,
   "metadata": {
    "ExecuteTime": {
     "end_time": "2020-07-06T08:16:22.636634Z",
     "start_time": "2020-07-06T08:16:22.625631Z"
    }
   },
   "outputs": [
    {
     "data": {
      "text/plain": [
       "(29, <StatusCode.success: 0>)"
      ]
     },
     "execution_count": 115,
     "metadata": {},
     "output_type": "execute_result"
    }
   ],
   "source": [
    "spec.write('FREQ:CENT %f'%4.02e9)"
   ]
  },
  {
   "cell_type": "code",
   "execution_count": 117,
   "metadata": {
    "ExecuteTime": {
     "end_time": "2020-07-06T08:17:11.151954Z",
     "start_time": "2020-07-06T08:17:11.140952Z"
    }
   },
   "outputs": [],
   "source": [
    "await psg_ex1.setValue('Frequency',4.02e9)"
   ]
  },
  {
   "cell_type": "code",
   "execution_count": 133,
   "metadata": {
    "ExecuteTime": {
     "end_time": "2020-07-07T01:42:52.783785Z",
     "start_time": "2020-07-07T01:42:52.767801Z"
    }
   },
   "outputs": [
    {
     "data": {
      "text/plain": [
       "60"
      ]
     },
     "execution_count": 133,
     "metadata": {},
     "output_type": "execute_result"
    }
   ],
   "source": [
    "len(np.arange(3.7,4.3,0.01)*1e9)"
   ]
  },
  {
   "cell_type": "code",
   "execution_count": 126,
   "metadata": {
    "ExecuteTime": {
     "end_time": "2020-07-07T01:40:55.789404Z",
     "start_time": "2020-07-07T01:40:55.763433Z"
    }
   },
   "outputs": [
    {
     "data": {
      "text/plain": [
       "{'3.700000': array([ 1.400e-02, -3.000e-02, -6.256e+01]),\n",
       " '3.710000': array([ 7.000e-03, -3.000e-02, -6.183e+01]),\n",
       " '3.720000': array([ 3.000e-03, -3.000e-02, -6.284e+01]),\n",
       " '3.730000': array([-0.000e+00, -2.900e-02, -6.015e+01]),\n",
       " '3.740000': array([-3.000e-03, -2.900e-02, -6.057e+01]),\n",
       " '3.750000': array([-4.000e-03, -2.600e-02, -6.189e+01]),\n",
       " '3.760000': array([-1.000e-02, -3.100e-02, -6.251e+01]),\n",
       " '3.770000': array([-1.00e-02, -3.50e-02, -6.14e+01]),\n",
       " '3.780000': array([-1.000e-02, -3.400e-02, -6.054e+01]),\n",
       " '3.790000': array([-1.100e-02, -3.300e-02, -5.834e+01]),\n",
       " '3.800000': array([-1.100e-02, -3.300e-02, -6.408e+01]),\n",
       " '3.810000': array([-1.200e-02, -3.400e-02, -6.244e+01]),\n",
       " '3.820000': array([-1.400e-02, -3.500e-02, -6.182e+01]),\n",
       " '3.830000': array([-1.500e-02, -3.500e-02, -5.919e+01]),\n",
       " '3.840000': array([-1.50e-02, -3.30e-02, -6.09e+01]),\n",
       " '3.850000': array([-1.500e-02, -3.300e-02, -6.005e+01]),\n",
       " '3.860000': array([-1.600e-02, -3.300e-02, -6.162e+01]),\n",
       " '3.870000': array([-1.600e-02, -3.200e-02, -6.003e+01]),\n",
       " '3.880000': array([-1.700e-02, -3.100e-02, -6.151e+01]),\n",
       " '3.890000': array([-1.800e-02, -3.000e-02, -6.592e+01]),\n",
       " '3.900000': array([-1.900e-02, -2.900e-02, -5.936e+01]),\n",
       " '3.910000': array([-2.100e-02, -3.000e-02, -6.228e+01]),\n",
       " '3.920000': array([-2.100e-02, -2.900e-02, -6.272e+01]),\n",
       " '3.930000': array([-2.200e-02, -2.800e-02, -6.418e+01]),\n",
       " '3.940000': array([-2.200e-02, -2.800e-02, -6.076e+01]),\n",
       " '3.950000': array([-2.300e-02, -2.900e-02, -6.605e+01]),\n",
       " '3.960000': array([-2.300e-02, -2.900e-02, -6.237e+01]),\n",
       " '3.970000': array([-2.400e-02, -2.900e-02, -6.549e+01]),\n",
       " '3.980000': array([-2.400e-02, -2.800e-02, -6.188e+01]),\n",
       " '3.990000': array([-2.500e-02, -2.800e-02, -6.278e+01]),\n",
       " '4.000000': array([-2.600e-02, -2.600e-02, -6.481e+01]),\n",
       " '4.010000': array([-2.900e-02, -3.100e-02, -6.195e+01]),\n",
       " '4.020000': array([-2.800e-02, -3.200e-02, -6.057e+01]),\n",
       " '4.030000': array([-2.800e-02, -3.200e-02, -6.375e+01]),\n",
       " '4.040000': array([-2.900e-02, -3.100e-02, -6.183e+01]),\n",
       " '4.050000': array([-3.000e-02, -3.100e-02, -6.465e+01]),\n",
       " '4.060000': array([-3.200e-02, -3.100e-02, -6.257e+01]),\n",
       " '4.070000': array([-3.300e-02, -3.200e-02, -6.232e+01]),\n",
       " '4.080000': array([-3.500e-02, -3.500e-02, -6.162e+01]),\n",
       " '4.090000': array([-3.700e-02, -3.600e-02, -6.412e+01]),\n",
       " '4.100000': array([-3.900e-02, -3.700e-02, -6.387e+01]),\n",
       " '4.110000': array([-4.400e-02, -4.000e-02, -6.326e+01]),\n",
       " '4.120000': array([-4.900e-02, -4.600e-02, -6.404e+01]),\n",
       " '4.130000': array([-5.200e-02, -5.700e-02, -6.579e+01]),\n",
       " '4.140000': array([-5.000e-02, -7.900e-02, -6.673e+01]),\n",
       " '4.150000': array([-1.200e-02, -1.260e-01, -6.656e+01]),\n",
       " '4.160000': array([  0.067,  -0.116, -66.69 ]),\n",
       " '4.170000': array([ 4.200e-02, -6.600e-02, -6.322e+01]),\n",
       " '4.180000': array([ 2.400e-02, -4.400e-02, -6.538e+01]),\n",
       " '4.190000': array([ 1.200e-02, -3.600e-02, -6.263e+01]),\n",
       " '4.200000': array([ 5.000e-03, -3.300e-02, -6.428e+01]),\n",
       " '4.210000': array([ 0.000e+00, -3.100e-02, -6.525e+01]),\n",
       " '4.220000': array([-4.000e-03, -2.900e-02, -6.603e+01]),\n",
       " '4.230000': array([-7.000e-03, -2.700e-02, -6.489e+01]),\n",
       " '4.240000': array([-1.000e-02, -2.600e-02, -6.237e+01]),\n",
       " '4.250000': array([-1.200e-02, -2.400e-02, -6.461e+01]),\n",
       " '4.260000': array([-1.400e-02, -2.300e-02, -6.372e+01]),\n",
       " '4.270000': array([-1.600e-02, -2.600e-02, -6.177e+01]),\n",
       " '4.280000': array([-1.700e-02, -2.600e-02, -6.089e+01]),\n",
       " '4.290000': array([-1.80e-02, -2.50e-02, -6.25e+01]),\n",
       " '4.300000': array([-1.80e-02, -2.50e-02, -6.26e+01]),\n",
       " '4.310000': array([-1.900e-02, -2.400e-02, -5.925e+01])}"
      ]
     },
     "execution_count": 126,
     "metadata": {},
     "output_type": "execute_result"
    }
   ],
   "source": [
    "iqm_ch"
   ]
  },
  {
   "cell_type": "markdown",
   "metadata": {},
   "source": [
    "# 连续压制本振"
   ]
  },
  {
   "cell_type": "code",
   "execution_count": 81,
   "metadata": {
    "ExecuteTime": {
     "end_time": "2020-07-06T03:06:07.743956Z",
     "start_time": "2020-07-06T03:06:07.634983Z"
    }
   },
   "outputs": [],
   "source": [
    "rm = visa.ResourceManager()\n",
    "spec = rm.open_resource('TCPIP::10.122.7.191')\n",
    "awg = await connect('AWG132')\n",
    "await awg.setValue('Run Mode','Continuous')    # Triggered\n",
    "psg_ex1 = await connect('PSG105')"
   ]
  },
  {
   "cell_type": "code",
   "execution_count": 82,
   "metadata": {
    "ExecuteTime": {
     "end_time": "2020-07-06T03:06:24.634589Z",
     "start_time": "2020-07-06T03:06:20.299340Z"
    }
   },
   "outputs": [],
   "source": [
    "ch_I, ch_Q = 5,6\n",
    "iqm_ch = iqm.alpha_ch5\n",
    "\n",
    "await cw.genwaveform(awg,['opt_I','opt_Q'],[ch_I,ch_Q])\n",
    "pulse = await cw.rabiWave(envelopename='square',during=0/1e9,shift=0,DRAGScaling=None)\n",
    "await cw.writeWave(awg,['opt_I','opt_Q'],pulse)\n",
    "await awg.output_on(ch=ch_I)\n",
    "await awg.output_on(ch=ch_Q)\n",
    "await cw.couldRun(awg)"
   ]
  },
  {
   "cell_type": "code",
   "execution_count": 83,
   "metadata": {
    "ExecuteTime": {
     "end_time": "2020-07-06T03:06:30.187480Z",
     "start_time": "2020-07-06T03:06:30.170479Z"
    }
   },
   "outputs": [],
   "source": [
    "async def SNR(offset1,offset2):\n",
    "    global ch_I, ch_Q\n",
    "    await awg.setValue('Offset',offset1,ch=ch_I)\n",
    "    await awg.setValue('Offset',offset2,ch=ch_Q)\n",
    "    time.sleep(2)\n",
    "    await cw.couldRun(awg)\n",
    "    y = []\n",
    "    for i in range(30):\n",
    "        time.sleep(0.2)\n",
    "        y.append(np.asarray(spec.query_ascii_values(':TRACe? TRACE1 ')))\n",
    "    y = np.mean(y,axis=0)\n",
    "#     print(np.mean(y[480:520]))\n",
    "    return np.mean(y[490:510])"
   ]
  },
  {
   "cell_type": "code",
   "execution_count": 84,
   "metadata": {
    "ExecuteTime": {
     "end_time": "2020-07-06T03:13:07.496059Z",
     "start_time": "2020-07-06T03:06:38.009483Z"
    },
    "scrolled": false
   },
   "outputs": [
    {
     "name": "stdout",
     "output_type": "stream",
     "text": [
      "4.0\n",
      ".o\n",
      "[-0.08  0.08] -7.854332601690001   .o\n",
      "[-0.072  0.08 ] -7.9766164739   ..o\n",
      "[-0.072  0.072] -8.206500685721668   .o\n",
      "[-0.068  0.064] -8.608885134781666   .o\n",
      "[-0.06   0.064] -8.7872900251   .o\n",
      "[-0.05   0.056] -9.417634057920665   .o\n",
      "[-0.046  0.04 ] -10.668769956756584   .o\n",
      "[-0.033  0.02 ] -13.108763464842166   .o\n",
      "[-0.015  0.012] -14.308475717541835   .o\n",
      "[ 0.011 -0.014] -15.155060956086334   ..o\n",
      "[ 0.009 -0.023] -16.18367357140017   ...o\n",
      "[-0.014 -0.009] -18.998907239338333   ...o\n",
      "[-0.017 -0.018] -22.847785780248334   .....o\n",
      "[-0.019 -0.028] -28.938373271416662   .o\n",
      "[-0.027 -0.03 ] -37.622151935533324   .........o\n",
      "[-0.028 -0.033] -40.334346652983335   ..o\n",
      "[-0.026 -0.034] -41.59714157321666   ..o\n",
      "[-0.027 -0.032] -45.27953076791667   ..o\n",
      "[-0.027 -0.033] -45.49464617791667   ..o\n",
      "[-0.026 -0.033] -49.268213007133326   ....o\n",
      "[-0.026 -0.032] -50.6551227715   ...............\n",
      " CacheInfo(hits=17, misses=44, maxsize=128, currsize=44)\n"
     ]
    }
   ],
   "source": [
    "start = [-0.08,0.08]\n",
    "senstive = np.abs(start)/10\n",
    "await psg_ex1.setValue('Output','ON')\n",
    "for j, i in enumerate(np.array([4])*1e9,start=1):\n",
    "    os.environ['CUDA_VISIBLE_DEVICES'] = '1'\n",
    "    await psg_ex1.setValue('Frequency',i)\n",
    "    spec.write('FREQ:CENT %f'%i)\n",
    "    print(round(i/1e9,4))\n",
    "    try:\n",
    "        ret = opt.optimize(SNR,start,senstive,[3,3],high=[2,2],low=[-2,-2],print_info=True,algorithm='minimize')\n",
    "        coef = ret.x\n",
    "        coef = np.append(coef,round(ret.fun,2))\n",
    "        iqm_ch['%f'%(round(i/1e9,4))] = coef\n",
    "    except:\n",
    "        pass\n",
    "    if j % 5 == 0:\n",
    "        clear_output()\n",
    "        filepath = save('IQMixerState','iqmixerstate',state = tuple2dict([iqm]),base_path=r'D:\\skzhao\\file_name')\n",
    "        with open(r'D:\\skzhao\\file_name\\iqmixer_state.txt', mode='a') as filename:\n",
    "            filename.write(str(filepath))\n",
    "            filename.write('\\n')"
   ]
  },
  {
   "cell_type": "code",
   "execution_count": 15,
   "metadata": {
    "ExecuteTime": {
     "end_time": "2020-07-04T17:15:45.103435Z",
     "start_time": "2020-07-04T17:15:45.099435Z"
    }
   },
   "outputs": [],
   "source": [
    "# spec.write('FREQ:CENT %f'%4.08e9)"
   ]
  },
  {
   "cell_type": "code",
   "execution_count": 11,
   "metadata": {
    "ExecuteTime": {
     "end_time": "2020-07-04T08:53:23.125616Z",
     "start_time": "2020-07-04T08:53:23.115642Z"
    },
    "scrolled": false
   },
   "outputs": [
    {
     "data": {
      "text/plain": [
       "60"
      ]
     },
     "execution_count": 11,
     "metadata": {},
     "output_type": "execute_result"
    }
   ],
   "source": [
    "len(np.arange(3.7,4.3,0.01)*1e9)"
   ]
  },
  {
   "cell_type": "code",
   "execution_count": 66,
   "metadata": {
    "ExecuteTime": {
     "end_time": "2020-07-06T02:34:34.660804Z",
     "start_time": "2020-07-06T02:34:34.650795Z"
    }
   },
   "outputs": [
    {
     "data": {
      "text/plain": [
       "array([-0.031, -0.046])"
      ]
     },
     "execution_count": 66,
     "metadata": {},
     "output_type": "execute_result"
    }
   ],
   "source": [
    "ret.x"
   ]
  },
  {
   "cell_type": "code",
   "execution_count": 79,
   "metadata": {
    "ExecuteTime": {
     "end_time": "2020-07-06T03:05:43.181973Z",
     "start_time": "2020-07-06T03:05:43.159989Z"
    },
    "scrolled": false
   },
   "outputs": [
    {
     "data": {
      "text/plain": [
       "{'3.700000': array([-2.800e-02,  3.000e-03, -6.416e+01]),\n",
       " '3.720000': array([-3.100e-02, -8.000e-03, -6.496e+01]),\n",
       " '3.740000': array([-3.100e-02, -1.200e-02, -6.293e+01]),\n",
       " '3.760000': array([-3.200e-02, -1.800e-02, -6.132e+01]),\n",
       " '3.780000': array([-3.400e-02, -1.900e-02, -6.271e+01]),\n",
       " '3.800000': array([-3.400e-02, -2.000e-02, -6.302e+01]),\n",
       " '3.820000': array([-3.600e-02, -2.300e-02, -6.032e+01]),\n",
       " '3.840000': array([-3.600e-02, -2.300e-02, -6.484e+01]),\n",
       " '3.860000': array([-3.400e-02, -2.300e-02, -6.224e+01]),\n",
       " '3.880000': array([-3.300e-02, -2.400e-02, -6.339e+01]),\n",
       " '3.900000': array([-3.200e-02, -2.500e-02, -6.438e+01]),\n",
       " '3.920000': array([-3.100e-02, -2.700e-02, -6.504e+01]),\n",
       " '3.940000': array([-3.000e-02, -2.800e-02, -6.562e+01]),\n",
       " '3.960000': array([-3.10e-02, -3.00e-02, -6.33e+01]),\n",
       " '3.980000': array([-3.000e-02, -3.100e-02, -6.375e+01]),\n",
       " '4.000000': array([-2.200e-02,  1.200e-02, -6.597e+01]),\n",
       " '4.020000': array([-3.300e-02, -3.600e-02, -6.384e+01]),\n",
       " '4.040000': array([-3.200e-02, -3.700e-02, -6.451e+01]),\n",
       " '4.060000': array([-3.100e-02, -4.000e-02, -6.264e+01]),\n",
       " '4.080000': array([-3.400e-02, -4.300e-02, -6.255e+01]),\n",
       " '4.100000': array([-3.700e-02, -5.000e-02, -6.387e+01]),\n",
       " '4.120000': array([-4.400e-02, -5.100e-02, -6.582e+01]),\n",
       " '4.140000': array([-9.500e-02, -2.600e-02, -6.677e+01]),\n",
       " '4.160000': array([-8.500e-02,  4.400e-02, -6.468e+01]),\n",
       " '4.180000': array([-3.800e-02,  1.100e-02, -6.501e+01]),\n",
       " '4.200000': array([-3.400e-02, -1.000e-02, -6.616e+01]),\n",
       " '4.220000': array([-3.300e-02, -1.900e-02, -6.254e+01]),\n",
       " '4.240000': array([-3.00e-02, -2.30e-02, -6.28e+01]),\n",
       " '4.260000': array([-2.900e-02, -2.700e-02, -6.674e+01]),\n",
       " '4.280000': array([-3.000e-02, -2.900e-02, -6.392e+01]),\n",
       " '4.300000': array([-2.800e-02, -2.900e-02, -6.254e+01]),\n",
       " '4.320000': array([-2.800e-02, -3.000e-02, -6.497e+01]),\n",
       " '4.340000': array([-2.700e-02, -3.000e-02, -6.252e+01]),\n",
       " '4.360000': array([-2.70e-02, -3.00e-02, -6.45e+01])}"
      ]
     },
     "execution_count": 79,
     "metadata": {},
     "output_type": "execute_result"
    }
   ],
   "source": [
    "iqm.alpha_ch5"
   ]
  },
  {
   "cell_type": "code",
   "execution_count": 17,
   "metadata": {
    "ExecuteTime": {
     "end_time": "2020-07-05T01:09:44.723184Z",
     "start_time": "2020-07-05T01:09:44.720191Z"
    }
   },
   "outputs": [],
   "source": [
    "er = [4.16]"
   ]
  },
  {
   "cell_type": "code",
   "execution_count": 13,
   "metadata": {
    "ExecuteTime": {
     "end_time": "2020-07-04T14:47:06.831355Z",
     "start_time": "2020-07-04T14:47:06.819353Z"
    }
   },
   "outputs": [
    {
     "data": {
      "text/plain": [
       "24"
      ]
     },
     "execution_count": 13,
     "metadata": {},
     "output_type": "execute_result"
    }
   ],
   "source": [
    "len(er)"
   ]
  },
  {
   "cell_type": "code",
   "execution_count": 48,
   "metadata": {
    "ExecuteTime": {
     "end_time": "2020-07-06T01:42:25.919406Z",
     "start_time": "2020-07-06T01:42:25.913404Z"
    }
   },
   "outputs": [
    {
     "data": {
      "text/plain": [
       "array([-3.100e-02, -4.500e-02, -5.133e+01])"
      ]
     },
     "execution_count": 48,
     "metadata": {},
     "output_type": "execute_result"
    }
   ],
   "source": [
    "iqm_ch['4.000000']"
   ]
  },
  {
   "cell_type": "code",
   "execution_count": 51,
   "metadata": {
    "ExecuteTime": {
     "end_time": "2020-07-06T01:44:29.577411Z",
     "start_time": "2020-07-06T01:44:29.569412Z"
    }
   },
   "outputs": [
    {
     "data": {
      "text/plain": [
       "4.0"
      ]
     },
     "execution_count": 51,
     "metadata": {},
     "output_type": "execute_result"
    }
   ],
   "source": [
    "float(4.000000)"
   ]
  },
  {
   "cell_type": "code",
   "execution_count": 85,
   "metadata": {
    "ExecuteTime": {
     "end_time": "2020-07-06T03:22:53.576657Z",
     "start_time": "2020-07-06T03:22:53.564642Z"
    }
   },
   "outputs": [],
   "source": [
    "await psg_ex1.setValue('Output','OFF')"
   ]
  },
  {
   "cell_type": "code",
   "execution_count": null,
   "metadata": {},
   "outputs": [],
   "source": []
  }
 ],
 "metadata": {
  "kernelspec": {
   "display_name": "Python 3",
   "language": "python",
   "name": "python3"
  },
  "language_info": {
   "codemirror_mode": {
    "name": "ipython",
    "version": 3
   },
   "file_extension": ".py",
   "mimetype": "text/x-python",
   "name": "python",
   "nbconvert_exporter": "python",
   "pygments_lexer": "ipython3",
   "version": "3.7.4"
  },
  "toc": {
   "base_numbering": 1,
   "nav_menu": {},
   "number_sections": true,
   "sideBar": true,
   "skip_h1_title": false,
   "title_cell": "Table of Contents",
   "title_sidebar": "Contents",
   "toc_cell": false,
   "toc_position": {
    "height": "calc(100% - 180px)",
    "left": "10px",
    "top": "150px",
    "width": "165px"
   },
   "toc_section_display": true,
   "toc_window_display": true
  }
 },
 "nbformat": 4,
 "nbformat_minor": 2
}
