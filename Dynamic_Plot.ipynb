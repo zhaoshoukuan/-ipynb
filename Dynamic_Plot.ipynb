{
 "cells": [
  {
   "cell_type": "markdown",
   "metadata": {},
   "source": [
    "# 导入包"
   ]
  },
  {
   "cell_type": "code",
   "execution_count": 7,
   "metadata": {
    "ExecuteTime": {
     "end_time": "2019-12-17T13:16:59.226882Z",
     "start_time": "2019-12-17T13:16:59.195883Z"
    }
   },
   "outputs": [],
   "source": [
    "%matplotlib notebook\n",
    "from qulab.storage.schema import Record, base\n",
    "from qulab.storage.utils import save\n",
    "import time\n",
    "from scipy import constants as const\n",
    "from sympy import diff, symbols\n",
    "import sympy as sy\n",
    "from scipy.optimize import least_squares as ls\n",
    "from scipy.fftpack import fft,ifft,hilbert\n",
    "from qulab.storage import connect\n",
    "import numpy as np\n",
    "import matplotlib.pyplot as plt\n",
    "from scipy.optimize import curve_fit\n",
    "connect.connect()"
   ]
  },
  {
   "cell_type": "code",
   "execution_count": 8,
   "metadata": {
    "ExecuteTime": {
     "end_time": "2019-12-17T13:16:59.754480Z",
     "start_time": "2019-12-17T13:16:59.228895Z"
    }
   },
   "outputs": [],
   "source": [
    "from qulab.ui.plot import show, figure  \n",
    "import matplotlib as mpl  \n",
    "from matplotlib import cm  \n",
    "from mpl_toolkits.mplot3d import Axes3D  \n",
    "from qutip import *  \n",
    "from qutip.ipynbtools import version_table\n",
    "import matplotlib.animation as animation\n",
    "from qutip.ipynbtools import plot_animation"
   ]
  },
  {
   "cell_type": "markdown",
   "metadata": {},
   "source": [
    "# 数据库读取数据"
   ]
  },
  {
   "cell_type": "code",
   "execution_count": 9,
   "metadata": {
    "ExecuteTime": {
     "end_time": "2019-12-17T13:17:00.145325Z",
     "start_time": "2019-12-17T13:16:59.755475Z"
    }
   },
   "outputs": [],
   "source": [
    "def read(title=None,which=0):\n",
    "    \n",
    "    x = Record.objects\n",
    "    tags, comment, name = list(x)[-1]['tags'], list(x)[-1]['comment'], list(x)[-1]['title']\n",
    "    if title is not None:\n",
    "        name = title\n",
    "    \n",
    "    def getDBdata(title):\n",
    "        r = Record.objects(title=title).order_by('-finished_time')[which]\n",
    "        return base.from_pickle(r.datafield), r.id\n",
    "\n",
    "    def getIDdata(ID):\n",
    "        r = Record.objects(id__in=[ID])[0]\n",
    "        return base.from_pickle(r.datafield)\n",
    "    \n",
    "    data, ID = getDBdata(name)\n",
    "    if type(data) is not 'NoneType':\n",
    "        return data, ID, comment, tags, name\n",
    "\n",
    "        "
   ]
  },
  {
   "cell_type": "markdown",
   "metadata": {},
   "source": [
    "# 一维图"
   ]
  },
  {
   "cell_type": "code",
   "execution_count": 1,
   "metadata": {
    "ExecuteTime": {
     "end_time": "2020-03-24T14:21:28.432773Z",
     "start_time": "2020-03-24T14:21:28.428772Z"
    }
   },
   "outputs": [],
   "source": [
    "# def plot(fig, data):\n",
    "#     ax = fig.add_subplot(111)\n",
    "#     f, s = data\n",
    "#     ax.plot(f,np.abs(s))\n",
    "# def get_data():\n",
    "#     i = 0\n",
    "#     while True:\n",
    "#         try:\n",
    "#             data, ID, comment, tags, name = read()\n",
    "#             f, s = data[0],data[1]\n",
    "#         except TypeError:\n",
    "#             pass\n",
    "#         finally:\n",
    "#             yield f, s\n",
    "        \n",
    "# fig = figure(figsize=(7,5))\n",
    "# show(plot, get_data, fig=fig, sleep=0.5)"
   ]
  },
  {
   "cell_type": "markdown",
   "metadata": {},
   "source": [
    "# 二维图"
   ]
  },
  {
   "cell_type": "code",
   "execution_count": null,
   "metadata": {},
   "outputs": [],
   "source": [
    "def plot(fig, data):\n",
    "    ax = fig.add_subplot(111)\n",
    "    cols, rows, s = data\n",
    "    extent = [min(rows),max(rows),min(cols),max(cols)]\n",
    "\n",
    "    ax.imshow(100*np.abs(s),extent=extent,aspect='auto',origin='lower',interpolation='nearest',animated=True)\n",
    "\n",
    "def get_data():\n",
    "    i = 0\n",
    "    while True:\n",
    "        \n",
    "        data, ID, comment, tags, name = read()\n",
    "        cols, rows, s= data[0][:,i], data[1][0][:,i], data[2][:,:,i]\n",
    "\n",
    "        yield cols, rows, s\n",
    "        \n",
    "fig = figure(figsize=(4,4))\n",
    "show(plot, get_data, fig=fig, sleep=0.5)"
   ]
  }
 ],
 "metadata": {
  "kernelspec": {
   "display_name": "Python 3",
   "language": "python",
   "name": "python3"
  },
  "language_info": {
   "codemirror_mode": {
    "name": "ipython",
    "version": 3
   },
   "file_extension": ".py",
   "mimetype": "text/x-python",
   "name": "python",
   "nbconvert_exporter": "python",
   "pygments_lexer": "ipython3",
   "version": "3.7.4"
  },
  "toc": {
   "base_numbering": 1,
   "nav_menu": {},
   "number_sections": true,
   "sideBar": true,
   "skip_h1_title": false,
   "title_cell": "Table of Contents",
   "title_sidebar": "Contents",
   "toc_cell": false,
   "toc_position": {},
   "toc_section_display": true,
   "toc_window_display": true
  }
 },
 "nbformat": 4,
 "nbformat_minor": 2
}
